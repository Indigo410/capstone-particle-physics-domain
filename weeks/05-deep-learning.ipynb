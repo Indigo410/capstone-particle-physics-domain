{
 "cells": [
  {
   "cell_type": "markdown",
   "metadata": {},
   "source": [
    "Week 5 Notebook: Building a Deep Learning Model\n",
    "===============================================================\n",
    "\n",
    "Now, we'll look at a deep learning model based on low-level track features."
   ]
  },
  {
   "cell_type": "code",
   "execution_count": 1,
   "metadata": {},
   "outputs": [],
   "source": [
    "import tensorflow.keras as keras\n",
    "import numpy as np\n",
    "from sklearn.metrics import roc_curve, auc\n",
    "import matplotlib.pyplot as plt\n",
    "import uproot"
   ]
  },
  {
   "cell_type": "code",
   "execution_count": 2,
   "metadata": {},
   "outputs": [],
   "source": [
    "import yaml\n",
    "\n",
    "with open('definitions.yml') as file:\n",
    "    # The FullLoader parameter handles the conversion from YAML\n",
    "    # scalar values to Python the dictionary format\n",
    "    definitions = yaml.load(file, Loader=yaml.FullLoader)\n",
    "    \n",
    "features = definitions['features']\n",
    "spectators = definitions['spectators']\n",
    "labels = definitions['labels']\n",
    "\n",
    "nfeatures = definitions['nfeatures']\n",
    "nspectators = definitions['nspectators']\n",
    "nlabels = definitions['nlabels']\n",
    "ntracks = definitions['ntracks']"
   ]
  },
  {
   "cell_type": "markdown",
   "metadata": {},
   "source": [
    "## Data Generators\n",
    "\n",
    "A quick aside on data generators. As training on large datasets is a key component of many deep learning approaches (and especially in high energy physics), and these datasets no longer fit in memory, it is imporatant to write a data generator which can automatically fetch data.\n",
    "\n",
    "Here we modify one from: https://stanford.edu/~shervine/blog/keras-how-to-generate-data-on-the-fly"
   ]
  },
  {
   "cell_type": "code",
   "execution_count": 3,
   "metadata": {},
   "outputs": [
    {
     "name": "stdout",
     "output_type": "stream",
     "text": [
      "Help on class DataGenerator in module DataGenerator:\n",
      "\n",
      "class DataGenerator(tensorflow.python.keras.utils.data_utils.Sequence)\n",
      " |  DataGenerator(list_files, features, labels, spectators, batch_size=1024, n_dim=60, remove_mass_pt_window=False, remove_unlabeled=True, return_spectators=False, max_entry=20000, scale_mass_pt=[1, 1])\n",
      " |  \n",
      " |  Generates data for Keras\n",
      " |  \n",
      " |  Method resolution order:\n",
      " |      DataGenerator\n",
      " |      tensorflow.python.keras.utils.data_utils.Sequence\n",
      " |      builtins.object\n",
      " |  \n",
      " |  Methods defined here:\n",
      " |  \n",
      " |  __getitem__(self, index)\n",
      " |      Generate one batch of data\n",
      " |  \n",
      " |  __init__(self, list_files, features, labels, spectators, batch_size=1024, n_dim=60, remove_mass_pt_window=False, remove_unlabeled=True, return_spectators=False, max_entry=20000, scale_mass_pt=[1, 1])\n",
      " |      Initialization\n",
      " |  \n",
      " |  __len__(self)\n",
      " |      Denotes the number of batches per epoch\n",
      " |  \n",
      " |  on_epoch_end(self)\n",
      " |      Updates indexes after each epoch\n",
      " |  \n",
      " |  ----------------------------------------------------------------------\n",
      " |  Methods inherited from tensorflow.python.keras.utils.data_utils.Sequence:\n",
      " |  \n",
      " |  __iter__(self)\n",
      " |      Create a generator that iterate over the Sequence.\n",
      " |  \n",
      " |  ----------------------------------------------------------------------\n",
      " |  Data descriptors inherited from tensorflow.python.keras.utils.data_utils.Sequence:\n",
      " |  \n",
      " |  __dict__\n",
      " |      dictionary for instance variables (if defined)\n",
      " |  \n",
      " |  __weakref__\n",
      " |      list of weak references to the object (if defined)\n",
      "\n"
     ]
    }
   ],
   "source": [
    "from DataGenerator import DataGenerator\n",
    "help(DataGenerator)"
   ]
  },
  {
   "cell_type": "code",
   "execution_count": 4,
   "metadata": {},
   "outputs": [],
   "source": [
    "# load training and validation generators \n",
    "# train_files = ['root://eospublic.cern.ch//eos/opendata/cms/datascience/HiggsToBBNtupleProducerTool/HiggsToBBNTuple_HiggsToBB_QCD_RunII_13TeV_MC/train/ntuple_merged_10.root']\n",
    "# val_files = ['root://eospublic.cern.ch//eos/opendata/cms/datascience/HiggsToBBNtupleProducerTool/HiggsToBBNTuple_HiggsToBB_QCD_RunII_13TeV_MC/train/ntuple_merged_11.root']\n",
    "\n",
    "train_files=[\"/teams/DSC180A_FA20_A00/b06particlephysics/train/ntuple_merged_10.root\"]\n",
    "val_files=[\"/teams/DSC180A_FA20_A00/b06particlephysics/train/ntuple_merged_11.root\"]\n",
    "\n",
    "\n",
    "train_generator = DataGenerator(train_files, features, labels, spectators, batch_size=1024, n_dim=ntracks, \n",
    "                                remove_mass_pt_window=False, \n",
    "                                remove_unlabeled=True, max_entry=5000)\n",
    "\n",
    "val_generator = DataGenerator(val_files, features, labels, spectators, batch_size=1024, n_dim=ntracks, \n",
    "                                remove_mass_pt_window=False, \n",
    "                                remove_unlabeled=True, max_entry=5000)"
   ]
  },
  {
   "cell_type": "markdown",
   "metadata": {},
   "source": [
    "## Test Data Generator\n",
    "Note that the track array has a different \"shape.\" There are also slightly less than the requested `batch_size=1024` because we remove unlabeled samples."
   ]
  },
  {
   "cell_type": "code",
   "execution_count": 5,
   "metadata": {},
   "outputs": [
    {
     "name": "stdout",
     "output_type": "stream",
     "text": [
      "(943, 60, 48)\n",
      "(943, 2)\n"
     ]
    }
   ],
   "source": [
    "X, y = train_generator[0]\n",
    "print(X.shape)\n",
    "print(y.shape)"
   ]
  },
  {
   "cell_type": "markdown",
   "metadata": {},
   "source": [
    "Note this generator can be optimized further (storing the data file locally, etc.). It's important to note that I/O is often a bottleneck for training big networks."
   ]
  },
  {
   "cell_type": "markdown",
   "metadata": {},
   "source": [
    "## Fully Connected Neural Network Classifier"
   ]
  },
  {
   "cell_type": "code",
   "execution_count": 6,
   "metadata": {},
   "outputs": [
    {
     "name": "stdout",
     "output_type": "stream",
     "text": [
      "Model: \"functional_1\"\n",
      "_________________________________________________________________\n",
      "Layer (type)                 Output Shape              Param #   \n",
      "=================================================================\n",
      "input (InputLayer)           [(None, 60, 48)]          0         \n",
      "_________________________________________________________________\n",
      "bn_1 (BatchNormalization)    (None, 60, 48)            192       \n",
      "_________________________________________________________________\n",
      "flatten_1 (Flatten)          (None, 2880)              0         \n",
      "_________________________________________________________________\n",
      "dense_1 (Dense)              (None, 64)                184384    \n",
      "_________________________________________________________________\n",
      "dense_2 (Dense)              (None, 32)                2080      \n",
      "_________________________________________________________________\n",
      "dense_3 (Dense)              (None, 32)                1056      \n",
      "_________________________________________________________________\n",
      "output (Dense)               (None, 2)                 66        \n",
      "=================================================================\n",
      "Total params: 187,778\n",
      "Trainable params: 187,682\n",
      "Non-trainable params: 96\n",
      "_________________________________________________________________\n",
      "None\n"
     ]
    }
   ],
   "source": [
    "from tensorflow.keras.models import Model\n",
    "from tensorflow.keras.layers import Input, Dense, BatchNormalization, Conv1D, Flatten, Lambda\n",
    "import tensorflow.keras.backend as K\n",
    "\n",
    "# define dense keras model\n",
    "inputs = Input(shape=(ntracks,nfeatures,), name = 'input')  \n",
    "x = BatchNormalization(name='bn_1')(inputs)\n",
    "x = Flatten(name='flatten_1')(x)\n",
    "x = Dense(64, name = 'dense_1', activation='relu')(x)\n",
    "x = Dense(32, name = 'dense_2', activation='relu')(x)\n",
    "x = Dense(32, name = 'dense_3', activation='relu')(x)\n",
    "outputs = Dense(nlabels, name = 'output', activation='softmax')(x)\n",
    "keras_model_dense = Model(inputs=inputs, outputs=outputs)\n",
    "keras_model_dense.compile(optimizer='adam', loss='categorical_crossentropy', metrics=['accuracy'])\n",
    "print(keras_model_dense.summary())"
   ]
  },
  {
   "cell_type": "code",
   "execution_count": 8,
   "metadata": {},
   "outputs": [],
   "source": [
    "# define callbacks\n",
    "from tensorflow.keras.callbacks import ModelCheckpoint, EarlyStopping, ReduceLROnPlateau\n",
    "\n",
    "early_stopping = EarlyStopping(monitor='val_loss', patience=20)\n",
    "reduce_lr = ReduceLROnPlateau(patience=5,factor=0.5)\n",
    "model_checkpoint = ModelCheckpoint('keras_model_dense_best.h5', monitor='val_loss', save_best_only=True)\n",
    "callbacks = [early_stopping, model_checkpoint, reduce_lr]\n",
    "\n",
    "# fit keras model\n",
    "history_dense = keras_model_dense.fit_generator(train_generator, \n",
    "                                                validation_data = val_generator, \n",
    "                                                steps_per_epoch=len(train_generator), \n",
    "                                                validation_steps=len(val_generator),\n",
    "                                                max_queue_size=5,\n",
    "                                                epochs=100, \n",
    "                                                shuffle=False,\n",
    "                                                callbacks = callbacks, \n",
    "                                                verbose=0)\n",
    "# reload best weights\n",
    "keras_model_dense.load_weights('keras_model_dense_best.h5')"
   ]
  },
  {
   "cell_type": "code",
   "execution_count": 9,
   "metadata": {},
   "outputs": [
    {
     "data": {
      "image/png": "[encoded data removed]",
      "text/plain": [
       "<Figure size 432x288 with 1 Axes>"
      ]
     },
     "metadata": {
      "needs_background": "light"
     },
     "output_type": "display_data"
    }
   ],
   "source": [
    "plt.figure()\n",
    "plt.plot(history_dense.history['loss'],label='Loss')\n",
    "plt.plot(history_dense.history['val_loss'],label='Val. loss')\n",
    "plt.xlabel('Epoch')\n",
    "plt.legend()\n",
    "plt.show()"
   ]
  },
  {
   "cell_type": "markdown",
   "metadata": {},
   "source": [
    "## Deep Sets Classifier\n",
    "\n",
    "This model uses the `Conv1D` layer of Keras, but really it's more like the Deep Sets architecture applied to jets, the so-caled Particle-flow network approach{cite}`Komiske:2018cqr,NIPS2017_6931`.\n",
    "By using a kernel size of 1, we are applying the same fully connected neural network to each track. \n",
    "Then the `Lambda` layer sums over the tracks (actually it takes the mean). "
   ]
  },
  {
   "cell_type": "code",
   "execution_count": 10,
   "metadata": {},
   "outputs": [
    {
     "name": "stdout",
     "output_type": "stream",
     "text": [
      "Model: \"functional_3\"\n",
      "_________________________________________________________________\n",
      "Layer (type)                 Output Shape              Param #   \n",
      "=================================================================\n",
      "input (InputLayer)           [(None, 60, 48)]          0         \n",
      "_________________________________________________________________\n",
      "bn_1 (BatchNormalization)    (None, 60, 48)            192       \n",
      "_________________________________________________________________\n",
      "conv1d_1 (Conv1D)            (None, 60, 64)            3136      \n",
      "_________________________________________________________________\n",
      "conv1d_2 (Conv1D)            (None, 60, 32)            2080      \n",
      "_________________________________________________________________\n",
      "conv1d_3 (Conv1D)            (None, 60, 32)            1056      \n",
      "_________________________________________________________________\n",
      "pool_1 (GlobalAveragePooling (None, 32)                0         \n",
      "_________________________________________________________________\n",
      "dense_1 (Dense)              (None, 100)               3300      \n",
      "_________________________________________________________________\n",
      "output (Dense)               (None, 2)                 202       \n",
      "=================================================================\n",
      "Total params: 9,966\n",
      "Trainable params: 9,870\n",
      "Non-trainable params: 96\n",
      "_________________________________________________________________\n",
      "None\n"
     ]
    }
   ],
   "source": [
    "from tensorflow.keras.models import Model\n",
    "from tensorflow.keras.layers import Input, Dense, BatchNormalization, Conv1D, Flatten, Lambda, GlobalAveragePooling1D\n",
    "import tensorflow.keras.backend as K\n",
    "\n",
    "# define Deep Sets model with Conv1D Keras layer\n",
    "inputs = Input(shape=(ntracks,nfeatures,), name = 'input')  \n",
    "x = BatchNormalization(name='bn_1')(inputs)\n",
    "x = Conv1D(64, 1, strides=1, padding='same', name = 'conv1d_1', activation='relu')(x)\n",
    "x = Conv1D(32, 1, strides=1, padding='same', name = 'conv1d_2', activation='relu')(x)\n",
    "x = Conv1D(32, 1, strides=1, padding='same', name = 'conv1d_3', activation='relu')(x)\n",
    "# sum over tracks\n",
    "x = GlobalAveragePooling1D(name='pool_1')(x)\n",
    "x = Dense(100, name = 'dense_1', activation='relu')(x)\n",
    "outputs = Dense(nlabels, name = 'output', activation='softmax')(x)\n",
    "keras_model_conv1d = Model(inputs=inputs, outputs=outputs)\n",
    "keras_model_conv1d.compile(optimizer='adam', loss='categorical_crossentropy', metrics=['accuracy'])\n",
    "print(keras_model_conv1d.summary())"
   ]
  },
  {
   "cell_type": "code",
   "execution_count": 11,
   "metadata": {},
   "outputs": [],
   "source": [
    "# define callbacks\n",
    "from tensorflow.keras.callbacks import ModelCheckpoint, EarlyStopping, ReduceLROnPlateau\n",
    "\n",
    "early_stopping = EarlyStopping(monitor='val_loss', patience=20)\n",
    "reduce_lr = ReduceLROnPlateau(patience=5,factor=0.5)\n",
    "model_checkpoint = ModelCheckpoint('keras_model_conv1d_best.h5', monitor='val_loss', save_best_only=True)\n",
    "callbacks = [early_stopping, model_checkpoint, reduce_lr]\n",
    "\n",
    "# fit keras model\n",
    "history_conv1d = keras_model_conv1d.fit(train_generator, \n",
    "                                        validation_data = val_generator, \n",
    "                                        steps_per_epoch=len(train_generator), \n",
    "                                        validation_steps=len(val_generator),\n",
    "                                        max_queue_size=5,\n",
    "                                        epochs=100, \n",
    "                                        shuffle=False,\n",
    "                                        callbacks = callbacks, \n",
    "                                        verbose=0)\n",
    "# reload best weights\n",
    "keras_model_conv1d.load_weights('keras_model_conv1d_best.h5')"
   ]
  },
  {
   "cell_type": "code",
   "execution_count": 12,
   "metadata": {},
   "outputs": [
    {
     "data": {
      "image/png": "[encoded data removed]",
      "text/plain": [
       "<Figure size 432x288 with 1 Axes>"
      ]
     },
     "metadata": {
      "needs_background": "light"
     },
     "output_type": "display_data"
    }
   ],
   "source": [
    "plt.figure()\n",
    "plt.plot(history_conv1d.history['loss'],label='Loss')\n",
    "plt.plot(history_conv1d.history['val_loss'],label='Val. loss')\n",
    "plt.xlabel('Epoch')\n",
    "plt.legend()\n",
    "plt.show()"
   ]
  },
  {
   "cell_type": "code",
   "execution_count": 14,
   "metadata": {},
   "outputs": [],
   "source": [
    "# load testing file\n",
    "# test_files = ['root://eospublic.cern.ch//eos/opendata/cms/datascience/HiggsToBBNtupleProducerTool/HiggsToBBNTuple_HiggsToBB_QCD_RunII_13TeV_MC/test/ntuple_merged_0.root']\n",
    "test_files=[\"/teams/DSC180A_FA20_A00/b06particlephysics/test/ntuple_merged_0.root\"]\n",
    "test_generator = DataGenerator(test_files, features, labels, spectators, batch_size=1024, n_dim=ntracks, \n",
    "                               remove_mass_pt_window=True, \n",
    "                               remove_unlabeled=True)"
   ]
  },
  {
   "cell_type": "code",
   "execution_count": 15,
   "metadata": {},
   "outputs": [
    {
     "data": {
      "image/png": "[encoded data removed]",
      "text/plain": [
       "<Figure size 432x288 with 1 Axes>"
      ]
     },
     "metadata": {
      "needs_background": "light"
     },
     "output_type": "display_data"
    }
   ],
   "source": [
    "# run model inference on test data set\n",
    "predict_array_dnn = []\n",
    "predict_array_cnn = []\n",
    "label_array_test = []\n",
    "\n",
    "for t in test_generator:\n",
    "    label_array_test.append(t[1])\n",
    "    predict_array_dnn.append(keras_model_dense.predict(t[0]))\n",
    "    predict_array_cnn.append(keras_model_conv1d.predict(t[0]))\n",
    "    \n",
    "    \n",
    "predict_array_dnn = np.concatenate(predict_array_dnn,axis=0)\n",
    "predict_array_cnn = np.concatenate(predict_array_cnn,axis=0)\n",
    "label_array_test = np.concatenate(label_array_test,axis=0)\n",
    "\n",
    "\n",
    "# create ROC curves\n",
    "fpr_dnn, tpr_dnn, threshold_dnn = roc_curve(label_array_test[:,1], predict_array_dnn[:,1])\n",
    "fpr_cnn, tpr_cnn, threshold_cnn = roc_curve(label_array_test[:,1], predict_array_cnn[:,1])\n",
    "    \n",
    "# plot ROC curves\n",
    "plt.figure()\n",
    "plt.plot(tpr_dnn, fpr_dnn, lw=2.5, label=\"Dense, AUC = {:.1f}%\".format(auc(fpr_dnn,tpr_dnn)*100))\n",
    "plt.plot(tpr_cnn, fpr_cnn, lw=2.5, label=\"Conv1D, AUC = {:.1f}%\".format(auc(fpr_cnn,tpr_cnn)*100))\n",
    "plt.xlabel(r'True positive rate')\n",
    "plt.ylabel(r'False positive rate')\n",
    "plt.semilogy()\n",
    "plt.ylim(0.001,1)\n",
    "plt.xlim(0,1)\n",
    "plt.grid(True)\n",
    "plt.legend(loc='upper left')\n",
    "plt.show()"
   ]
  },
  {
   "cell_type": "markdown",
   "metadata": {},
   "source": [
    "We see the more structurally-aware Conv1D/Deep Sets model does better than a simple fully conneted neural network appraoch."
   ]
  },
  {
   "cell_type": "markdown",
   "metadata": {},
   "source": [
    "<hr>"
   ]
  },
  {
   "cell_type": "markdown",
   "metadata": {},
   "source": [
    "## Task\n",
    "\n",
    "Create a baseline deep learning model with PF candidate, track, and/or secondary vertex features. The choice of input embedding and classifier is up to you. (Note: you do not need to implement the interaction network here)."
   ]
  },
  {
   "cell_type": "code",
   "execution_count": 62,
   "metadata": {},
   "outputs": [],
   "source": [
    "from tensorflow.keras.layers import MaxPooling1D,GlobalMaxPooling1D,Flatten"
   ]
  },
  {
   "cell_type": "code",
   "execution_count": 63,
   "metadata": {},
   "outputs": [
    {
     "name": "stdout",
     "output_type": "stream",
     "text": [
      "Model: \"functional_25\"\n",
      "_________________________________________________________________\n",
      "Layer (type)                 Output Shape              Param #   \n",
      "=================================================================\n",
      "input (InputLayer)           [(None, 60, 48)]          0         \n",
      "_________________________________________________________________\n",
      "bn_1 (BatchNormalization)    (None, 60, 48)            192       \n",
      "_________________________________________________________________\n",
      "conv1d_1 (Conv1D)            (None, 60, 128)           24704     \n",
      "_________________________________________________________________\n",
      "conv1d_2 (Conv1D)            (None, 60, 64)            32832     \n",
      "_________________________________________________________________\n",
      "pool_1 (MaxPooling1D)        (None, 30, 64)            0         \n",
      "_________________________________________________________________\n",
      "conv1d_3 (Conv1D)            (None, 30, 64)            16448     \n",
      "_________________________________________________________________\n",
      "conv1d_4 (Conv1D)            (None, 30, 64)            16448     \n",
      "_________________________________________________________________\n",
      "pool_2 (MaxPooling1D)        (None, 15, 64)            0         \n",
      "_________________________________________________________________\n",
      "flatten_1 (Flatten)          (None, 960)               0         \n",
      "_________________________________________________________________\n",
      "dense_2 (Dense)              (None, 256)               246016    \n",
      "_________________________________________________________________\n",
      "dense_3 (Dense)              (None, 256)               65792     \n",
      "_________________________________________________________________\n",
      "output (Dense)               (None, 2)                 514       \n",
      "=================================================================\n",
      "Total params: 402,946\n",
      "Trainable params: 402,850\n",
      "Non-trainable params: 96\n",
      "_________________________________________________________________\n",
      "None\n"
     ]
    }
   ],
   "source": [
    "inputs = Input(shape=(ntracks,nfeatures,), name = 'input')  \n",
    "x = BatchNormalization(name='bn_1')(inputs)\n",
    "x = Conv1D(128, 4, strides=1, padding='same', name = 'conv1d_1', activation='relu')(x)\n",
    "x = Conv1D(64, 4, strides=1, padding='same', name = 'conv1d_2', activation='relu')(x)\n",
    "x = MaxPooling1D(name='pool_1')(x)\n",
    "\n",
    "x = Conv1D(64, 4, strides=1, padding='same', name = 'conv1d_3', activation='relu')(x)\n",
    "x = Conv1D(64, 4, strides=1, padding='same', name = 'conv1d_4', activation='relu')(x)\n",
    "x = MaxPooling1D(name='pool_2')(x)\n",
    "\n",
    "x = Flatten(name='flatten_1')(x)\n",
    "x = Dense(256, name = 'dense_2', activation='relu')(x)\n",
    "x = Dense(256, name = 'dense_3', activation='relu')(x)\n",
    "\n",
    "outputs = Dense(nlabels, name = 'output', activation='softmax')(x)\n",
    "m = Model(inputs=inputs, outputs=outputs)\n",
    "m.compile(optimizer='adam', loss='categorical_crossentropy', metrics=['accuracy'])\n",
    "print(m.summary())"
   ]
  },
  {
   "cell_type": "code",
   "execution_count": 64,
   "metadata": {
    "scrolled": true
   },
   "outputs": [
    {
     "name": "stdout",
     "output_type": "stream",
     "text": [
      "Epoch 1/50\n",
      "4/4 [==============================] - 13s 3s/step - loss: 0.5051 - accuracy: 0.7368 - val_loss: 0.5032 - val_accuracy: 0.8729\n",
      "Epoch 2/50\n",
      "4/4 [==============================] - 10s 3s/step - loss: 0.3903 - accuracy: 0.8715 - val_loss: 0.4150 - val_accuracy: 0.8729\n",
      "Epoch 3/50\n",
      "4/4 [==============================] - 12s 3s/step - loss: 0.3704 - accuracy: 0.8715 - val_loss: 0.4006 - val_accuracy: 0.8729\n",
      "Epoch 4/50\n",
      "4/4 [==============================] - 12s 3s/step - loss: 0.3501 - accuracy: 0.8715 - val_loss: 0.3867 - val_accuracy: 0.8729\n",
      "Epoch 5/50\n",
      "4/4 [==============================] - 12s 3s/step - loss: 0.3315 - accuracy: 0.8715 - val_loss: 0.3894 - val_accuracy: 0.8729\n",
      "Epoch 6/50\n",
      "4/4 [==============================] - 12s 3s/step - loss: 0.3069 - accuracy: 0.8715 - val_loss: 0.3890 - val_accuracy: 0.8729\n",
      "Epoch 7/50\n",
      "4/4 [==============================] - 12s 3s/step - loss: 0.2786 - accuracy: 0.8715 - val_loss: 0.3585 - val_accuracy: 0.8729\n",
      "Epoch 8/50\n",
      "4/4 [==============================] - 12s 3s/step - loss: 0.2500 - accuracy: 0.8715 - val_loss: 0.3643 - val_accuracy: 0.8729\n",
      "Epoch 9/50\n",
      "4/4 [==============================] - 13s 3s/step - loss: 0.2292 - accuracy: 0.8791 - val_loss: 0.3957 - val_accuracy: 0.8729\n",
      "Epoch 10/50\n",
      "4/4 [==============================] - 11s 3s/step - loss: 0.2117 - accuracy: 0.9179 - val_loss: 0.4531 - val_accuracy: 0.8766\n",
      "Epoch 11/50\n",
      "4/4 [==============================] - 13s 3s/step - loss: 0.1901 - accuracy: 0.9308 - val_loss: 0.4937 - val_accuracy: 0.8766\n",
      "Epoch 12/50\n",
      "4/4 [==============================] - 12s 3s/step - loss: 0.1694 - accuracy: 0.9371 - val_loss: 0.4687 - val_accuracy: 0.8787\n",
      "Epoch 13/50\n",
      "4/4 [==============================] - 11s 3s/step - loss: 0.1516 - accuracy: 0.9444 - val_loss: 0.3866 - val_accuracy: 0.8862\n",
      "Epoch 14/50\n",
      "4/4 [==============================] - 13s 3s/step - loss: 0.1411 - accuracy: 0.9455 - val_loss: 0.2997 - val_accuracy: 0.9019\n",
      "Epoch 15/50\n",
      "4/4 [==============================] - 11s 3s/step - loss: 0.1334 - accuracy: 0.9507 - val_loss: 0.3402 - val_accuracy: 0.8961\n",
      "Epoch 16/50\n",
      "4/4 [==============================] - 12s 3s/step - loss: 0.1142 - accuracy: 0.9586 - val_loss: 0.4023 - val_accuracy: 0.8907\n",
      "Epoch 17/50\n",
      "4/4 [==============================] - 12s 3s/step - loss: 0.1012 - accuracy: 0.9636 - val_loss: 0.3588 - val_accuracy: 0.8990\n",
      "Epoch 18/50\n",
      "4/4 [==============================] - 13s 3s/step - loss: 0.0902 - accuracy: 0.9693 - val_loss: 0.3175 - val_accuracy: 0.9055\n",
      "Epoch 19/50\n",
      "4/4 [==============================] - 12s 3s/step - loss: 0.0809 - accuracy: 0.9738 - val_loss: 0.3176 - val_accuracy: 0.9089\n",
      "Epoch 20/50\n",
      "4/4 [==============================] - 12s 3s/step - loss: 0.0698 - accuracy: 0.9798 - val_loss: 0.4113 - val_accuracy: 0.8961\n",
      "Epoch 21/50\n",
      "4/4 [==============================] - 12s 3s/step - loss: 0.0624 - accuracy: 0.9788 - val_loss: 0.3238 - val_accuracy: 0.9105\n",
      "Epoch 22/50\n",
      "4/4 [==============================] - 11s 3s/step - loss: 0.0569 - accuracy: 0.9843 - val_loss: 0.3820 - val_accuracy: 0.9024\n",
      "Epoch 23/50\n",
      "4/4 [==============================] - 12s 3s/step - loss: 0.0505 - accuracy: 0.9858 - val_loss: 0.3417 - val_accuracy: 0.9100\n",
      "Epoch 24/50\n",
      "4/4 [==============================] - 12s 3s/step - loss: 0.0456 - accuracy: 0.9866 - val_loss: 0.3555 - val_accuracy: 0.9092\n",
      "Epoch 25/50\n",
      "4/4 [==============================] - 11s 3s/step - loss: 0.0407 - accuracy: 0.9903 - val_loss: 0.3432 - val_accuracy: 0.9115\n",
      "Epoch 26/50\n",
      "4/4 [==============================] - 12s 3s/step - loss: 0.0385 - accuracy: 0.9906 - val_loss: 0.3525 - val_accuracy: 0.9118\n",
      "Epoch 27/50\n",
      "4/4 [==============================] - 12s 3s/step - loss: 0.0362 - accuracy: 0.9919 - val_loss: 0.3340 - val_accuracy: 0.9128\n",
      "Epoch 28/50\n",
      "4/4 [==============================] - 13s 3s/step - loss: 0.0340 - accuracy: 0.9927 - val_loss: 0.3408 - val_accuracy: 0.9128\n",
      "Epoch 29/50\n",
      "4/4 [==============================] - 12s 3s/step - loss: 0.0319 - accuracy: 0.9942 - val_loss: 0.3322 - val_accuracy: 0.9134\n",
      "Epoch 30/50\n",
      "4/4 [==============================] - 12s 3s/step - loss: 0.0302 - accuracy: 0.9953 - val_loss: 0.3273 - val_accuracy: 0.9128\n",
      "Epoch 31/50\n",
      "4/4 [==============================] - 11s 3s/step - loss: 0.0292 - accuracy: 0.9953 - val_loss: 0.3262 - val_accuracy: 0.9128\n",
      "Epoch 32/50\n",
      "4/4 [==============================] - 13s 3s/step - loss: 0.0282 - accuracy: 0.9955 - val_loss: 0.3194 - val_accuracy: 0.9136\n",
      "Epoch 33/50\n",
      "4/4 [==============================] - 11s 3s/step - loss: 0.0272 - accuracy: 0.9955 - val_loss: 0.3141 - val_accuracy: 0.9154\n",
      "Epoch 34/50\n",
      "4/4 [==============================] - 11s 3s/step - loss: 0.0263 - accuracy: 0.9958 - val_loss: 0.3124 - val_accuracy: 0.9157\n"
     ]
    }
   ],
   "source": [
    "early_stopping = EarlyStopping(monitor='val_loss', patience=20)\n",
    "reduce_lr = ReduceLROnPlateau(patience=5,factor=0.5)\n",
    "model_checkpoint = ModelCheckpoint('m_best.h5', monitor='val_loss', save_best_only=True)\n",
    "callbacks = [early_stopping, model_checkpoint, reduce_lr]\n",
    "\n",
    "# fit keras model\n",
    "history_m = m.fit(train_generator, \n",
    "                  validation_data = val_generator, \n",
    "                  steps_per_epoch=len(train_generator), \n",
    "                  validation_steps=len(val_generator),\n",
    "                  max_queue_size=5,\n",
    "                  epochs=50, \n",
    "                  shuffle=False,\n",
    "                  callbacks = callbacks, \n",
    "                  verbose=1)\n",
    "# reload best weights\n",
    "m.load_weights('m_best.h5')"
   ]
  },
  {
   "cell_type": "code",
   "execution_count": 66,
   "metadata": {},
   "outputs": [
    {
     "data": {
      "image/png": "[encoded data removed]",
      "text/plain": [
       "<Figure size 432x288 with 1 Axes>"
      ]
     },
     "metadata": {
      "needs_background": "light"
     },
     "output_type": "display_data"
    }
   ],
   "source": [
    "plt.figure()\n",
    "plt.plot(history_m.history['loss'],label='Loss')\n",
    "plt.plot(history_m.history['val_loss'],label='Val. loss')\n",
    "plt.xlabel('Epoch')\n",
    "plt.legend()\n",
    "plt.show()"
   ]
  },
  {
   "cell_type": "code",
   "execution_count": 67,
   "metadata": {},
   "outputs": [
    {
     "data": {
      "image/png": "[encoded data removed]",
      "text/plain": [
       "<Figure size 432x288 with 1 Axes>"
      ]
     },
     "metadata": {
      "needs_background": "light"
     },
     "output_type": "display_data"
    }
   ],
   "source": [
    "predict_array_m = []\n",
    "label_array_test = []\n",
    "\n",
    "for t in test_generator:\n",
    "    label_array_test.append(t[1])\n",
    "    predict_array_m.append(m.predict(t[0]))\n",
    "    \n",
    "    \n",
    "predict_array_m = np.concatenate(predict_array_m,axis=0)\n",
    "label_array_test = np.concatenate(label_array_test,axis=0)\n",
    "\n",
    "\n",
    "# create ROC curves\n",
    "fpr_m, tpr_m, threshold_m = roc_curve(label_array_test[:,1], predict_array_m[:,1])\n",
    "    \n",
    "# plot ROC curves\n",
    "plt.figure()\n",
    "plt.plot(tpr_dnn, fpr_dnn, lw=2.5, label=\"Dense, AUC = {:.1f}%\".format(auc(fpr_dnn,tpr_dnn)*100))\n",
    "plt.plot(tpr_cnn, fpr_cnn, lw=2.5, label=\"Conv1D, AUC = {:.1f}%\".format(auc(fpr_cnn,tpr_cnn)*100))\n",
    "plt.plot(tpr_m, fpr_m, lw=2.5, label=\"modified Conv1D, AUC = {:.1f}%\".format(auc(fpr_cnn,tpr_cnn)*100))\n",
    "plt.xlabel(r'True positive rate')\n",
    "plt.ylabel(r'False positive rate')\n",
    "plt.semilogy()\n",
    "plt.ylim(0.001,1)\n",
    "plt.xlim(0,1)\n",
    "plt.grid(True)\n",
    "plt.legend(loc='upper left')\n",
    "plt.show()"
   ]
  },
  {
   "cell_type": "code",
   "execution_count": null,
   "metadata": {},
   "outputs": [],
   "source": []
  }
 ],
 "metadata": {
  "kernelspec": {
   "display_name": "ml-latest",
   "language": "python",
   "name": "ml-latest"
  },
  "language_info": {
   "codemirror_mode": {
    "name": "ipython",
    "version": 3
   },
   "file_extension": ".py",
   "mimetype": "text/x-python",
   "name": "python",
   "nbconvert_exporter": "python",
   "pygments_lexer": "ipython3",
   "version": "3.8.5"
  }
 },
 "nbformat": 4,
 "nbformat_minor": 2
}
