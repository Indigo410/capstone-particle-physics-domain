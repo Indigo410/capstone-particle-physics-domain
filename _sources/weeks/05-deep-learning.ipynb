{
 "cells": [
  {
   "cell_type": "markdown",
   "metadata": {},
   "source": [
    "Week 5 Notebook: Building a Deep Learning Model\n",
    "===============================================================\n",
    "\n",
    "Now, we'll look at a deep learning model based on low-level track features."
   ]
  },
  {
   "cell_type": "code",
   "execution_count": 1,
   "metadata": {},
   "outputs": [
    {
     "name": "stderr",
     "output_type": "stream",
     "text": [
      "Using TensorFlow backend.\n"
     ]
    }
   ],
   "source": [
    "import keras\n",
    "import numpy as np\n",
    "from sklearn.metrics import roc_curve, auc\n",
    "import matplotlib.pyplot as plt\n",
    "import uproot"
   ]
  },
  {
   "cell_type": "code",
   "execution_count": 2,
   "metadata": {},
   "outputs": [],
   "source": [
    "# 48 track-level features\n",
    "features = ['track_pt',\n",
    "            'track_ptrel',\n",
    "            'trackBTag_Eta',\n",
    "            'trackBTag_DeltaR',\n",
    "            'trackBTag_EtaRel',\n",
    "            'trackBTag_JetDistVal',\n",
    "            'trackBTag_Momentum',\n",
    "            'trackBTag_PPar',\n",
    "            'trackBTag_PParRatio',\n",
    "            'trackBTag_PtRatio',\n",
    "            'trackBTag_PtRel',\n",
    "            'trackBTag_Sip2dSig',\n",
    "            'trackBTag_Sip2dVal',\n",
    "            'trackBTag_Sip3dSig',\n",
    "            'trackBTag_Sip3dVal',\n",
    "            'track_VTX_ass',\n",
    "            'track_charge',\n",
    "            'track_deltaR',\n",
    "            'track_detadeta',\n",
    "            'track_dlambdadz',\n",
    "            'track_dlambdadz',\n",
    "            'track_dphidphi',\n",
    "            'track_dphidxy',\n",
    "            'track_dptdpt',\n",
    "            'track_drminsv',\n",
    "            'track_drsubjet1',\n",
    "            'track_drsubjet2',\n",
    "            'track_dxy',\n",
    "            'track_dxydxy',\n",
    "            'track_dxydz',\n",
    "            'track_dxysig',\n",
    "            'track_dz',\n",
    "            'track_dzdz',        \n",
    "            'track_dzsig',\n",
    "            'track_erel',\n",
    "            'track_etarel',\n",
    "            'track_fromPV',\n",
    "            'track_isChargedHad',\n",
    "            'track_isEl',\n",
    "            'track_isMu',\n",
    "            'track_lostInnerHits',\n",
    "            'track_mass',\n",
    "            'track_normchi2',            \n",
    "            'track_phirel',\n",
    "            'track_pt',\n",
    "            'track_ptrel',\n",
    "            'track_puppiw',\n",
    "            'track_quality']\n",
    "\n",
    "# spectators to define mass/pT window\n",
    "spectators = ['fj_sdmass',\n",
    "              'fj_pt']\n",
    "\n",
    "# 2 labels: QCD or Hbb (we'll reduce the following labels)\n",
    "labels =  ['label_QCD_b',\n",
    "           'label_QCD_bb',\n",
    "           'label_QCD_c', \n",
    "           'label_QCD_cc', \n",
    "           'label_QCD_others',\n",
    "           'sample_isQCD',\n",
    "           'label_H_bb']\n",
    "\n",
    "nfeatures = len(features)\n",
    "nspectators = len(spectators)\n",
    "nlabels = 2\n",
    "\n",
    "# we're going to zero-pad up to 60 tracks\n",
    "ntracks = 60"
   ]
  },
  {
   "cell_type": "markdown",
   "metadata": {},
   "source": [
    "## Data Generators\n",
    "\n",
    "A quick aside on data generators. As training on large datasets is a key component of many deep learning approaches (and especially in high energy physics), and these datasets no longer fit in memory, it is imporatant to write a data generator which can automatically fetch data.\n",
    "\n",
    "Here we modify one from: https://stanford.edu/~shervine/blog/keras-how-to-generate-data-on-the-fly"
   ]
  },
  {
   "cell_type": "code",
   "execution_count": 3,
   "metadata": {},
   "outputs": [],
   "source": [
    "class DataGenerator(keras.utils.Sequence):\n",
    "    'Generates data for Keras'\n",
    "    def __init__(self, list_files, features, labels, spectators, batch_size=1024, n_dim=60, \n",
    "                 remove_mass_pt_window=False, remove_unlabeled=True, return_spectators=False,\n",
    "                 max_entry = 20000):\n",
    "        'Initialization'\n",
    "        self.batch_size = batch_size\n",
    "        self.labels = labels\n",
    "        self.list_files = list_files\n",
    "        self.features = features\n",
    "        self.spectators = spectators\n",
    "        self.return_spectators = return_spectators\n",
    "        self.n_dim = n_dim\n",
    "        self.n_channels = len(features)\n",
    "        self.remove_mass_pt_window = remove_mass_pt_window\n",
    "        self.remove_unlabeled = remove_unlabeled\n",
    "        self.global_IDs = []\n",
    "        self.local_IDs = []\n",
    "        self.file_mapping = []\n",
    "        self.max_entry = max_entry\n",
    "        self.open_files = [None]*len(self.list_files)\n",
    "        running_total = 0\n",
    "        for i, file_name in enumerate(self.list_files):\n",
    "            root_file = uproot.open(file_name)\n",
    "            self.open_files.append(root_file)\n",
    "            tree = root_file['deepntuplizer/tree']\n",
    "            tree_length = min(len(tree),max_entry)\n",
    "            self.global_IDs.append(np.arange(running_total,running_total+tree_length))\n",
    "            self.local_IDs.append(np.arange(tree_length))\n",
    "            self.file_mapping.append(np.repeat(i,tree_length))\n",
    "            running_total += tree_length\n",
    "            root_file.close()\n",
    "        self.global_IDs = np.concatenate(self.global_IDs)\n",
    "        self.local_IDs = np.concatenate(self.local_IDs)\n",
    "        self.file_mapping = np.concatenate(self.file_mapping)\n",
    "        self.on_epoch_end()\n",
    "\n",
    "    def __len__(self):\n",
    "        'Denotes the number of batches per epoch'\n",
    "        return int(np.floor(len(self.global_IDs) / self.batch_size))\n",
    "\n",
    "    def __getitem__(self, index):\n",
    "        'Generate one batch of data'\n",
    "        # Generate indexes of the batch\n",
    "        indexes = self.indexes[index*self.batch_size:(index+1)*self.batch_size]\n",
    "        files = self.file_mapping[index*self.batch_size:(index+1)*self.batch_size]\n",
    "        \n",
    "        unique_files = np.unique(files)\n",
    "        starts = np.array([min(indexes[files==i]) for i in unique_files])\n",
    "        stops = np.array([max(indexes[files==i]) for i in unique_files])\n",
    "\n",
    "        # Check if files needed open (if not open them)\n",
    "        # Also if file is not needed, close it\n",
    "        for ifile, file_name in enumerate(self.list_files):\n",
    "            if ifile in unique_files:\n",
    "                if self.open_files[ifile] is None: \n",
    "                    self.open_files[ifile] = uproot.open(file_name)\n",
    "            else:\n",
    "                if self.open_files[ifile] is not None: \n",
    "                    self.open_files[ifile].close()\n",
    "                    self.open_files[ifile] = None\n",
    "            \n",
    "        # Generate data\n",
    "        return self.__data_generation(unique_files, starts, stops)\n",
    "\n",
    "    def on_epoch_end(self):\n",
    "        'Updates indexes after each epoch'\n",
    "        self.indexes = self.local_IDs\n",
    "\n",
    "    def __data_generation(self, unique_files, starts, stops):\n",
    "        'Generates data containing batch_size samples' \n",
    "        # X : (n_samples, n_dim, n_channels)\n",
    "        # y : (n_samples, 2)\n",
    "        Xs = []\n",
    "        ys = []\n",
    "        zs = []\n",
    "        \n",
    "        # Generate data\n",
    "        for ifile, start, stop in zip(unique_files, starts, stops):\n",
    "            if self.return_spectators:\n",
    "                X, y, z = self.__get_features_labels(ifile, start, stop)\n",
    "                zs.append(z)\n",
    "            else:\n",
    "                X, y = self.__get_features_labels(ifile, start, stop)\n",
    "            Xs.append(X)\n",
    "            ys.append(y)\n",
    "            \n",
    "        # Stack data if going over multiple files\n",
    "        if len(unique_files)>1:\n",
    "            X = np.concatenate(Xs,axis=0)\n",
    "            y = np.concatenate(ys,axis=0)\n",
    "            if self.return_spectators:\n",
    "                z = np.concatenate(zs,axis=0)\n",
    "            \n",
    "        if self.return_spectators:\n",
    "            return X, y, z\n",
    "        \n",
    "        return X, y\n",
    "                         \n",
    "    def __get_features_labels(self, ifile, entrystart, entrystop):\n",
    "        'Loads data from one file'\n",
    "        \n",
    "        # Double check that file is open\n",
    "        if self.open_files[ifile] is None:\n",
    "            root_file = uproot.open(self.list_file[ifile])\n",
    "        else:\n",
    "            root_file = self.open_files[ifile]\n",
    "            \n",
    "        tree = root_file['deepntuplizer/tree']\n",
    "        \n",
    "        feature_array = tree.arrays(branches=self.features, \n",
    "                                    entrystart=entrystart,\n",
    "                                    entrystop=entrystop,\n",
    "                                    namedecode='utf-8')\n",
    "\n",
    "        label_array_all = tree.arrays(branches=self.labels, \n",
    "                                      entrystart=entrystart,\n",
    "                                      entrystop=entrystop,\n",
    "                                      namedecode='utf-8')\n",
    "\n",
    "        X = np.stack([feature_array[feat].pad(self.n_dim, clip=True).fillna(0).regular() for feat in features],axis=2)\n",
    "        n_samples = X.shape[0]\n",
    "    \n",
    "        y = np.zeros((n_samples,2))\n",
    "        y[:,0] = label_array_all['sample_isQCD'] * (label_array_all['label_QCD_b'] + \\\n",
    "                                                    label_array_all['label_QCD_bb'] + \\\n",
    "                                                    label_array_all['label_QCD_c'] + \\\n",
    "                                                    label_array_all['label_QCD_cc'] + \\\n",
    "                                                    label_array_all['label_QCD_others'])\n",
    "        y[:,1] = label_array_all['label_H_bb']\n",
    "\n",
    "        \n",
    "        if self.remove_mass_pt_window:\n",
    "            # remove data outside of mass/pT range\n",
    "            spec_array = tree.arrays(branches=self.spectators, \n",
    "                                     entrystart=entrystart,\n",
    "                                     entrystop=entrystop,\n",
    "                                     namedecode='utf-8')\n",
    "            \n",
    "            z = np.stack([spec_array[spec] for spec in self.spectators],axis=1)\n",
    "            X = X[(z[:,0] > 40) & (z[:,0] < 200) & (z[:,1] > 300) & (z[:,1] < 2000)]\n",
    "            y = y[(z[:,0] > 40) & (z[:,0] < 200) & (z[:,1] > 300) & (z[:,1] < 2000)]\n",
    "            z = z[(z[:,0] > 40) & (z[:,0] < 200) & (z[:,1] > 300) & (z[:,1] < 2000)]\n",
    "                        \n",
    "        if self.remove_unlabeled:\n",
    "            # remove unlabeled data\n",
    "            X = X[np.sum(y,axis=1)==1]\n",
    "            if self.return_spectators:\n",
    "                z = z[np.sum(y,axis=1)==1]\n",
    "            y = y[np.sum(y,axis=1)==1]\n",
    "            \n",
    "        if self.return_spectators:\n",
    "            return X, y, z\n",
    "        \n",
    "        return X, y"
   ]
  },
  {
   "cell_type": "code",
   "execution_count": 4,
   "metadata": {},
   "outputs": [],
   "source": [
    "# load training and validation generators \n",
    "train_files = ['root://eospublic.cern.ch//eos/opendata/cms/datascience/HiggsToBBNtupleProducerTool/HiggsToBBNTuple_HiggsToBB_QCD_RunII_13TeV_MC/train/ntuple_merged_10.root']\n",
    "val_files = ['root://eospublic.cern.ch//eos/opendata/cms/datascience/HiggsToBBNtupleProducerTool/HiggsToBBNTuple_HiggsToBB_QCD_RunII_13TeV_MC/train/ntuple_merged_11.root']\n",
    "\n",
    "\n",
    "train_generator = DataGenerator(train_files, features, labels, spectators, batch_size=1024, n_dim=ntracks, \n",
    "                                remove_mass_pt_window=False, \n",
    "                                remove_unlabeled=True)\n",
    "\n",
    "val_generator = DataGenerator(val_files, features, labels, spectators, batch_size=1024, n_dim=ntracks, \n",
    "                                remove_mass_pt_window=False, \n",
    "                                remove_unlabeled=True)"
   ]
  },
  {
   "cell_type": "markdown",
   "metadata": {},
   "source": [
    "## Test Data Generator\n",
    "Note that the track array has a different \"shape.\" There are also slightly less than the requested `batch_size=1024` because we remove unlabeled samples."
   ]
  },
  {
   "cell_type": "code",
   "execution_count": 5,
   "metadata": {},
   "outputs": [
    {
     "name": "stdout",
     "output_type": "stream",
     "text": [
      "(943, 60, 48)\n",
      "(943, 2)\n"
     ]
    }
   ],
   "source": [
    "X, y = train_generator[0]\n",
    "print(X.shape)\n",
    "print(y.shape)"
   ]
  },
  {
   "cell_type": "markdown",
   "metadata": {},
   "source": [
    "Note this generator can be optimized further (storing the data file locally, etc.). It's important to note that I/O is often a bottleneck for training big networks."
   ]
  },
  {
   "cell_type": "markdown",
   "metadata": {},
   "source": [
    "## Fully Connected Neural Network Classifier"
   ]
  },
  {
   "cell_type": "code",
   "execution_count": 6,
   "metadata": {},
   "outputs": [
    {
     "name": "stdout",
     "output_type": "stream",
     "text": [
      "Model: \"model_1\"\n",
      "_________________________________________________________________\n",
      "Layer (type)                 Output Shape              Param #   \n",
      "=================================================================\n",
      "input (InputLayer)           (None, 60, 48)            0         \n",
      "_________________________________________________________________\n",
      "bn_1 (BatchNormalization)    (None, 60, 48)            192       \n",
      "_________________________________________________________________\n",
      "flatten_1 (Flatten)          (None, 2880)              0         \n",
      "_________________________________________________________________\n",
      "dense_1 (Dense)              (None, 64)                184384    \n",
      "_________________________________________________________________\n",
      "dense_2 (Dense)              (None, 32)                2080      \n",
      "_________________________________________________________________\n",
      "dense_3 (Dense)              (None, 32)                1056      \n",
      "_________________________________________________________________\n",
      "output (Dense)               (None, 2)                 66        \n",
      "=================================================================\n",
      "Total params: 187,778\n",
      "Trainable params: 187,682\n",
      "Non-trainable params: 96\n",
      "_________________________________________________________________\n",
      "None\n"
     ]
    }
   ],
   "source": [
    "from keras.models import Model\n",
    "from keras.layers import Input, Dense, BatchNormalization, Conv1D, Flatten, Lambda\n",
    "import keras.backend as K\n",
    "\n",
    "# define dense keras model\n",
    "inputs = Input(shape=(ntracks,nfeatures,), name = 'input')  \n",
    "x = BatchNormalization(name='bn_1')(inputs)\n",
    "x = Flatten(name='flatten_1')(x)\n",
    "x = Dense(64, name = 'dense_1', activation='relu')(x)\n",
    "x = Dense(32, name = 'dense_2', activation='relu')(x)\n",
    "x = Dense(32, name = 'dense_3', activation='relu')(x)\n",
    "outputs = Dense(nlabels, name = 'output', activation='softmax')(x)\n",
    "keras_model_dense = Model(inputs=inputs, outputs=outputs)\n",
    "keras_model_dense.compile(optimizer='adam', loss='categorical_crossentropy', metrics=['accuracy'])\n",
    "print(keras_model_dense.summary())"
   ]
  },
  {
   "cell_type": "code",
   "execution_count": 7,
   "metadata": {},
   "outputs": [],
   "source": [
    "# define callbacks\n",
    "from keras.callbacks import ModelCheckpoint, EarlyStopping, ReduceLROnPlateau\n",
    "\n",
    "early_stopping = EarlyStopping(monitor='val_loss', patience=20)\n",
    "reduce_lr = ReduceLROnPlateau(patience=5,factor=0.5)\n",
    "model_checkpoint = ModelCheckpoint('keras_model_dense_best.h5', monitor='val_loss', save_best_only=True)\n",
    "callbacks = [early_stopping, model_checkpoint, reduce_lr]\n",
    "\n",
    "# fit keras model\n",
    "history_dense = keras_model_dense.fit_generator(train_generator, \n",
    "                                                validation_data = val_generator, \n",
    "                                                steps_per_epoch=len(train_generator), \n",
    "                                                validation_steps=len(val_generator),\n",
    "                                                max_queue_size=5,\n",
    "                                                epochs=100, \n",
    "                                                shuffle=False,\n",
    "                                                callbacks = callbacks, \n",
    "                                                verbose=0)\n",
    "# reload best weights\n",
    "keras_model_dense.load_weights('keras_model_dense_best.h5')"
   ]
  },
  {
   "cell_type": "code",
   "execution_count": 8,
   "metadata": {},
   "outputs": [
    {
     "data": {
      "image/png": "[encoded data removed]",
      "text/plain": [
       "<Figure size 432x288 with 1 Axes>"
      ]
     },
     "metadata": {
      "needs_background": "light"
     },
     "output_type": "display_data"
    }
   ],
   "source": [
    "plt.figure()\n",
    "plt.plot(history_dense.history['loss'],label='Loss')\n",
    "plt.plot(history_dense.history['val_loss'],label='Val. loss')\n",
    "plt.xlabel('Epoch')\n",
    "plt.legend()\n",
    "plt.show()"
   ]
  },
  {
   "cell_type": "markdown",
   "metadata": {},
   "source": [
    "## Convolutional 1D Neural Network Classifier\n",
    "\n",
    "This model uses the `Conv1D` layer of Keras, but really it's more like the Deep Sets architecture applied to jets, the so-caled Particle-flow network approach{cite}`Komiske:2018cqr,NIPS2017_6931`.\n",
    "By using a kernel size of 1, we are applying the same fully connected neural network to each track. \n",
    "Then the `Lambda` layer sums over the tracks (actually it takes the mean). "
   ]
  },
  {
   "cell_type": "code",
   "execution_count": 9,
   "metadata": {},
   "outputs": [
    {
     "name": "stdout",
     "output_type": "stream",
     "text": [
      "Model: \"model_2\"\n",
      "_________________________________________________________________\n",
      "Layer (type)                 Output Shape              Param #   \n",
      "=================================================================\n",
      "input (InputLayer)           (None, 60, 48)            0         \n",
      "_________________________________________________________________\n",
      "bn_1 (BatchNormalization)    (None, 60, 48)            192       \n",
      "_________________________________________________________________\n",
      "conv1d_1 (Conv1D)            (None, 60, 64)            3136      \n",
      "_________________________________________________________________\n",
      "conv1d_2 (Conv1D)            (None, 60, 32)            2080      \n",
      "_________________________________________________________________\n",
      "conv1d_3 (Conv1D)            (None, 60, 32)            1056      \n",
      "_________________________________________________________________\n",
      "lambda_1 (Lambda)            (None, 32)                0         \n",
      "_________________________________________________________________\n",
      "dense_1 (Dense)              (None, 100)               3300      \n",
      "_________________________________________________________________\n",
      "output (Dense)               (None, 2)                 202       \n",
      "=================================================================\n",
      "Total params: 9,966\n",
      "Trainable params: 9,870\n",
      "Non-trainable params: 96\n",
      "_________________________________________________________________\n",
      "None\n"
     ]
    }
   ],
   "source": [
    "from keras.models import Model\n",
    "from keras.layers import Input, Dense, BatchNormalization, Conv1D, Flatten, Lambda\n",
    "import keras.backend as K\n",
    "\n",
    "# define conv1d keras model\n",
    "inputs = Input(shape=(ntracks,nfeatures,), name = 'input')  \n",
    "x = BatchNormalization(name='bn_1')(inputs)\n",
    "x = Conv1D(64, 1, strides=1, padding='same', name = 'conv1d_1', activation='relu')(x)\n",
    "x = Conv1D(32, 1, strides=1, padding='same', name = 'conv1d_2', activation='relu')(x)\n",
    "x = Conv1D(32, 1, strides=1, padding='same', name = 'conv1d_3', activation='relu')(x)\n",
    "# sum over tracks\n",
    "x = Lambda(lambda x: K.mean(x, axis=-2), name = 'lambda_1', input_shape=(ntracks,32))(x)\n",
    "x = Dense(100, name = 'dense_1', activation='relu')(x)\n",
    "outputs = Dense(nlabels, name = 'output', activation='softmax')(x)\n",
    "keras_model_conv1d = Model(inputs=inputs, outputs=outputs)\n",
    "keras_model_conv1d.compile(optimizer='adam', loss='categorical_crossentropy', metrics=['accuracy'])\n",
    "print(keras_model_conv1d.summary())"
   ]
  },
  {
   "cell_type": "code",
   "execution_count": 10,
   "metadata": {},
   "outputs": [],
   "source": [
    "# define callbacks\n",
    "from keras.callbacks import ModelCheckpoint, EarlyStopping, ReduceLROnPlateau\n",
    "\n",
    "early_stopping = EarlyStopping(monitor='val_loss', patience=20)\n",
    "reduce_lr = ReduceLROnPlateau(patience=5,factor=0.5)\n",
    "model_checkpoint = ModelCheckpoint('keras_model_conv1d_best.h5', monitor='val_loss', save_best_only=True)\n",
    "callbacks = [early_stopping, model_checkpoint, reduce_lr]\n",
    "\n",
    "# fit keras model\n",
    "history_conv1d = keras_model_conv1d.fit(train_generator, \n",
    "                                        validation_data = val_generator, \n",
    "                                        steps_per_epoch=len(train_generator), \n",
    "                                        validation_steps=len(val_generator),\n",
    "                                        max_queue_size=5,\n",
    "                                        epochs=100, \n",
    "                                        shuffle=False,\n",
    "                                        callbacks = callbacks, \n",
    "                                        verbose=0)\n",
    "# reload best weights\n",
    "keras_model_conv1d.load_weights('keras_model_conv1d_best.h5')"
   ]
  },
  {
   "cell_type": "code",
   "execution_count": 14,
   "metadata": {},
   "outputs": [
    {
     "data": {
      "image/png": "[encoded data removed]",
      "text/plain": [
       "<Figure size 432x288 with 1 Axes>"
      ]
     },
     "metadata": {
      "needs_background": "light"
     },
     "output_type": "display_data"
    }
   ],
   "source": [
    "plt.figure()\n",
    "plt.plot(history_conv1d.history['loss'],label='Loss')\n",
    "plt.plot(history_conv1d.history['val_loss'],label='Val. loss')\n",
    "plt.xlabel('Epoch')\n",
    "plt.legend()\n",
    "plt.show()"
   ]
  },
  {
   "cell_type": "code",
   "execution_count": 12,
   "metadata": {},
   "outputs": [],
   "source": [
    "# load testing file\n",
    "test_files = ['root://eospublic.cern.ch//eos/opendata/cms/datascience/HiggsToBBNtupleProducerTool/HiggsToBBNTuple_HiggsToBB_QCD_RunII_13TeV_MC/test/ntuple_merged_0.root']\n",
    "test_generator = DataGenerator(test_files, features, labels, spectators, batch_size=1024, n_dim=ntracks, \n",
    "                               remove_mass_pt_window=True, \n",
    "                               remove_unlabeled=True)"
   ]
  },
  {
   "cell_type": "code",
   "execution_count": 13,
   "metadata": {},
   "outputs": [
    {
     "data": {
      "image/png": "[encoded data removed]",
      "text/plain": [
       "<Figure size 432x288 with 1 Axes>"
      ]
     },
     "metadata": {
      "needs_background": "light"
     },
     "output_type": "display_data"
    }
   ],
   "source": [
    "# run model inference on test data set\n",
    "predict_array_dnn = []\n",
    "predict_array_cnn = []\n",
    "label_array_test = []\n",
    "\n",
    "for t in test_generator:\n",
    "    label_array_test.append(t[1])\n",
    "    predict_array_dnn.append(keras_model_dense.predict(t[0]))\n",
    "    predict_array_cnn.append(keras_model_conv1d.predict(t[0]))\n",
    "    \n",
    "    \n",
    "predict_array_dnn = np.concatenate(predict_array_dnn,axis=0)\n",
    "predict_array_cnn = np.concatenate(predict_array_cnn,axis=0)\n",
    "label_array_test = np.concatenate(label_array_test,axis=0)\n",
    "\n",
    "\n",
    "# create ROC curves\n",
    "fpr_dnn, tpr_dnn, threshold_dnn = roc_curve(label_array_test[:,1], predict_array_dnn[:,1])\n",
    "fpr_cnn, tpr_cnn, threshold_cnn = roc_curve(label_array_test[:,1], predict_array_cnn[:,1])\n",
    "    \n",
    "# plot ROC curves\n",
    "plt.figure()\n",
    "plt.plot(tpr_dnn, fpr_dnn, lw=2.5, label=\"Dense, AUC = {:.1f}%\".format(auc(fpr_dnn,tpr_dnn)*100))\n",
    "plt.plot(tpr_cnn, fpr_cnn, lw=2.5, label=\"Conv1D, AUC = {:.1f}%\".format(auc(fpr_cnn,tpr_cnn)*100))\n",
    "plt.xlabel(r'True positive rate')\n",
    "plt.ylabel(r'False positive rate')\n",
    "plt.semilogy()\n",
    "plt.ylim(0.001,1)\n",
    "plt.xlim(0,1)\n",
    "plt.grid(True)\n",
    "plt.legend(loc='upper left')\n",
    "plt.show()"
   ]
  },
  {
   "cell_type": "markdown",
   "metadata": {},
   "source": [
    "We see the more structurally-aware Conv1D/DeepSets model does better than a simple fully conneted neural network appraoch."
   ]
  },
  {
   "cell_type": "code",
   "execution_count": null,
   "metadata": {},
   "outputs": [],
   "source": []
  }
 ],
 "metadata": {
  "kernelspec": {
   "display_name": "Python 3",
   "language": "python",
   "name": "python3"
  },
  "language_info": {
   "codemirror_mode": {
    "name": "ipython",
    "version": 3
   },
   "file_extension": ".py",
   "mimetype": "text/x-python",
   "name": "python",
   "nbconvert_exporter": "python",
   "pygments_lexer": "ipython3",
   "version": "3.7.6"
  }
 },
 "nbformat": 4,
 "nbformat_minor": 2
}
