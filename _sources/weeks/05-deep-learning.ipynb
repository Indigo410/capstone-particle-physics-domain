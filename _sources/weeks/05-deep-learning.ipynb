{
 "cells": [
  {
   "cell_type": "markdown",
   "metadata": {},
   "source": [
    "Week 5 Notebook: Building a Deep Learning Model\n",
    "===============================================================\n",
    "\n",
    "Now, we'll look at a deep learning model based on low-level track features."
   ]
  },
  {
   "cell_type": "code",
   "execution_count": 1,
   "metadata": {},
   "outputs": [
    {
     "name": "stderr",
     "output_type": "stream",
     "text": [
      "Using TensorFlow backend.\n"
     ]
    }
   ],
   "source": [
    "import keras\n",
    "import numpy as np\n",
    "from sklearn.metrics import roc_curve, auc\n",
    "import matplotlib.pyplot as plt\n",
    "import uproot"
   ]
  },
  {
   "cell_type": "code",
   "execution_count": 2,
   "metadata": {},
   "outputs": [],
   "source": [
    "# 48 track-level features\n",
    "features = ['track_pt',\n",
    "            'track_ptrel',\n",
    "            'trackBTag_Eta',\n",
    "            'trackBTag_DeltaR',\n",
    "            'trackBTag_EtaRel',\n",
    "            'trackBTag_JetDistVal',\n",
    "            'trackBTag_Momentum',\n",
    "            'trackBTag_PPar',\n",
    "            'trackBTag_PParRatio',\n",
    "            'trackBTag_PtRatio',\n",
    "            'trackBTag_PtRel',\n",
    "            'trackBTag_Sip2dSig',\n",
    "            'trackBTag_Sip2dVal',\n",
    "            'trackBTag_Sip3dSig',\n",
    "            'trackBTag_Sip3dVal',\n",
    "            'track_VTX_ass',\n",
    "            'track_charge',\n",
    "            'track_deltaR',\n",
    "            'track_detadeta',\n",
    "            'track_dlambdadz',\n",
    "            'track_dlambdadz',\n",
    "            'track_dphidphi',\n",
    "            'track_dphidxy',\n",
    "            'track_dptdpt',\n",
    "            'track_drminsv',\n",
    "            'track_drsubjet1',\n",
    "            'track_drsubjet2',\n",
    "            'track_dxy',\n",
    "            'track_dxydxy',\n",
    "            'track_dxydz',\n",
    "            'track_dxysig',\n",
    "            'track_dz',\n",
    "            'track_dzdz',        \n",
    "            'track_dzsig',\n",
    "            'track_erel',\n",
    "            'track_etarel',\n",
    "            'track_fromPV',\n",
    "            'track_isChargedHad',\n",
    "            'track_isEl',\n",
    "            'track_isMu',\n",
    "            'track_lostInnerHits',\n",
    "            'track_mass',\n",
    "            'track_normchi2',            \n",
    "            'track_phirel',\n",
    "            'track_pt',\n",
    "            'track_ptrel',\n",
    "            'track_puppiw',\n",
    "            'track_quality']\n",
    "\n",
    "# spectators to define mass/pT window\n",
    "spectators = ['fj_sdmass',\n",
    "              'fj_pt']\n",
    "\n",
    "# 2 labels: QCD or Hbb (we'll reduce the following labels)\n",
    "labels =  ['label_QCD_b',\n",
    "           'label_QCD_bb',\n",
    "           'label_QCD_c', \n",
    "           'label_QCD_cc', \n",
    "           'label_QCD_others',\n",
    "           'sample_isQCD',\n",
    "           'label_H_bb']\n",
    "\n",
    "nfeatures = len(features)\n",
    "nspectators = len(spectators)\n",
    "nlabels = 2\n",
    "\n",
    "# we're gonna zero-pad up to 60 tracks\n",
    "ntracks = 60"
   ]
  },
  {
   "cell_type": "markdown",
   "metadata": {},
   "source": [
    "Let's set up a function to get features and labels."
   ]
  },
  {
   "cell_type": "code",
   "execution_count": 3,
   "metadata": {},
   "outputs": [],
   "source": [
    "def get_features_labels(file_name, remove_mass_pt_window=True, entrystop=None):\n",
    "    # load file\n",
    "    root_file = uproot.open(file_name)\n",
    "    tree = root_file['deepntuplizer/tree']\n",
    "    feature_array = tree.arrays(branches=features, \n",
    "                                entrystop=entrystop,\n",
    "                                namedecode='utf-8')\n",
    "    spec_array = tree.arrays(branches=spectators, \n",
    "                             entrystop=entrystop,\n",
    "                             namedecode='utf-8')\n",
    "    label_array_all = tree.arrays(branches=labels, \n",
    "                                  entrystop=entrystop,\n",
    "                                  namedecode='utf-8')\n",
    "\n",
    "    feature_array = np.stack([feature_array[feat].pad(ntracks, clip=True).fillna(0).regular() for feat in features],axis=2)\n",
    "    spec_array = np.stack([spec_array[spec] for spec in spectators],axis=1)\n",
    "    \n",
    "    njets = feature_array.shape[0]\n",
    "    \n",
    "    label_array = np.zeros((njets,nlabels))\n",
    "    label_array[:,0] = label_array_all['sample_isQCD'] * (label_array_all['label_QCD_b'] + \\\n",
    "                                                          label_array_all['label_QCD_bb'] + \\\n",
    "                                                          label_array_all['label_QCD_c'] + \\\n",
    "                                                          label_array_all['label_QCD_cc'] + \\\n",
    "                                                          label_array_all['label_QCD_others'])\n",
    "    label_array[:,1] = label_array_all['label_H_bb']\n",
    "\n",
    "    # remove samples outside mass/pT window\n",
    "    if remove_mass_pt_window:\n",
    "        feature_array = feature_array[(spec_array[:,0] > 40) & (spec_array[:,0] < 200) & (spec_array[:,1] > 300) & (spec_array[:,1] < 2000)]\n",
    "        label_array = label_array[(spec_array[:,0] > 40) & (spec_array[:,0] < 200) & (spec_array[:,1] > 300) & (spec_array[:,1] < 2000)]\n",
    "        spec_array = spec_array[(spec_array[:,0] > 40) & (spec_array[:,0] < 200) & (spec_array[:,1] > 300) & (spec_array[:,1] < 2000)]\n",
    "    \n",
    "    # remove unlabeled data\n",
    "    feature_array = feature_array[np.sum(label_array,axis=1)==1]\n",
    "    spec_array = spec_array[np.sum(label_array,axis=1)==1]\n",
    "    label_array = label_array[np.sum(label_array,axis=1)==1]\n",
    "\n",
    "    return feature_array, label_array, spec_array"
   ]
  },
  {
   "cell_type": "code",
   "execution_count": 4,
   "metadata": {},
   "outputs": [],
   "source": [
    "# load training file\n",
    "feature_array, label_array, spec_array = get_features_labels('root://eospublic.cern.ch//eos/opendata/cms/datascience/HiggsToBBNtupleProducerTool/HiggsToBBNTuple_HiggsToBB_QCD_RunII_13TeV_MC/train/ntuple_merged_10.root', \n",
    "                                                             remove_mass_pt_window=False,\n",
    "                                                             entrystop=20000)"
   ]
  },
  {
   "cell_type": "markdown",
   "metadata": {},
   "source": [
    "Note that the track array has a different \"shape\":"
   ]
  },
  {
   "cell_type": "code",
   "execution_count": 5,
   "metadata": {},
   "outputs": [
    {
     "name": "stdout",
     "output_type": "stream",
     "text": [
      "(18757, 60, 48)\n",
      "(18757, 2)\n"
     ]
    }
   ],
   "source": [
    "print(feature_array.shape)\n",
    "print(label_array.shape)"
   ]
  },
  {
   "cell_type": "markdown",
   "metadata": {},
   "source": [
    "## Fully Connected Neural Network Classifier"
   ]
  },
  {
   "cell_type": "code",
   "execution_count": 6,
   "metadata": {},
   "outputs": [
    {
     "name": "stdout",
     "output_type": "stream",
     "text": [
      "Model: \"model_1\"\n",
      "_________________________________________________________________\n",
      "Layer (type)                 Output Shape              Param #   \n",
      "=================================================================\n",
      "input (InputLayer)           (None, 60, 48)            0         \n",
      "_________________________________________________________________\n",
      "bn_1 (BatchNormalization)    (None, 60, 48)            192       \n",
      "_________________________________________________________________\n",
      "flatten_1 (Flatten)          (None, 2880)              0         \n",
      "_________________________________________________________________\n",
      "dense_1 (Dense)              (None, 64)                184384    \n",
      "_________________________________________________________________\n",
      "dense_2 (Dense)              (None, 32)                2080      \n",
      "_________________________________________________________________\n",
      "dense_3 (Dense)              (None, 32)                1056      \n",
      "_________________________________________________________________\n",
      "output (Dense)               (None, 2)                 66        \n",
      "=================================================================\n",
      "Total params: 187,778\n",
      "Trainable params: 187,682\n",
      "Non-trainable params: 96\n",
      "_________________________________________________________________\n",
      "None\n"
     ]
    }
   ],
   "source": [
    "from keras.models import Model\n",
    "from keras.layers import Input, Dense, BatchNormalization, Conv1D, Flatten, Lambda\n",
    "import keras.backend as K\n",
    "\n",
    "# define dense keras model\n",
    "inputs = Input(shape=(ntracks,nfeatures,), name = 'input')  \n",
    "x = BatchNormalization(name='bn_1')(inputs)\n",
    "x = Flatten(name='flatten_1')(x)\n",
    "x = Dense(64, name = 'dense_1', activation='relu')(x)\n",
    "x = Dense(32, name = 'dense_2', activation='relu')(x)\n",
    "x = Dense(32, name = 'dense_3', activation='relu')(x)\n",
    "outputs = Dense(nlabels, name = 'output', activation='softmax')(x)\n",
    "keras_model_dense = Model(inputs=inputs, outputs=outputs)\n",
    "keras_model_dense.compile(optimizer='adam', loss='categorical_crossentropy', metrics=['accuracy'])\n",
    "print(keras_model_dense.summary())"
   ]
  },
  {
   "cell_type": "code",
   "execution_count": 7,
   "metadata": {},
   "outputs": [],
   "source": [
    "# define callbacks\n",
    "from keras.callbacks import ModelCheckpoint, EarlyStopping, ReduceLROnPlateau\n",
    "\n",
    "early_stopping = EarlyStopping(monitor='val_loss', patience=20)\n",
    "reduce_lr = ReduceLROnPlateau(patience=5,factor=0.5)\n",
    "model_checkpoint = ModelCheckpoint('keras_model_dense_best.h5', monitor='val_loss', save_best_only=True)\n",
    "callbacks = [early_stopping, model_checkpoint, reduce_lr]\n",
    "\n",
    "# fit keras model\n",
    "history_dense = keras_model_dense.fit(feature_array, label_array, batch_size=1024, \n",
    "                          epochs=150, validation_split=0.2, shuffle=False,\n",
    "                          callbacks = callbacks, verbose=0)\n",
    "# reload best weights\n",
    "keras_model_dense.load_weights('keras_model_dense_best.h5')"
   ]
  },
  {
   "cell_type": "code",
   "execution_count": 8,
   "metadata": {},
   "outputs": [
    {
     "data": {
      "image/png": "[encoded data removed]",
      "text/plain": [
       "<Figure size 432x288 with 1 Axes>"
      ]
     },
     "metadata": {
      "needs_background": "light"
     },
     "output_type": "display_data"
    }
   ],
   "source": [
    "plt.figure()\n",
    "plt.plot(history_dense.history['loss'],label='Loss')\n",
    "plt.plot(history_dense.history['val_loss'],label='Val. loss')\n",
    "plt.xlabel('Epoch')\n",
    "plt.legend()\n",
    "plt.show()"
   ]
  },
  {
   "cell_type": "markdown",
   "metadata": {},
   "source": [
    "## Convolutional 1D Neural Network Classifier\n",
    "\n",
    "This model uses the `Conv1D` layer of Keras, but really it's more like the Deep Sets architecture applied to jets, the so-caled Particle-flow network approach{cite}`Komiske:2018cqr,NIPS2017_6931`.\n",
    "By using a kernel size of 1, we are applying the same fully connected neural network to each track. \n",
    "Then the `Lambda` layer sums over the tracks (actually it takes the mean). "
   ]
  },
  {
   "cell_type": "code",
   "execution_count": 9,
   "metadata": {},
   "outputs": [
    {
     "name": "stdout",
     "output_type": "stream",
     "text": [
      "Model: \"model_2\"\n",
      "_________________________________________________________________\n",
      "Layer (type)                 Output Shape              Param #   \n",
      "=================================================================\n",
      "input (InputLayer)           (None, 60, 48)            0         \n",
      "_________________________________________________________________\n",
      "bn_1 (BatchNormalization)    (None, 60, 48)            192       \n",
      "_________________________________________________________________\n",
      "conv1d_1 (Conv1D)            (None, 60, 64)            3136      \n",
      "_________________________________________________________________\n",
      "conv1d_2 (Conv1D)            (None, 60, 32)            2080      \n",
      "_________________________________________________________________\n",
      "conv1d_3 (Conv1D)            (None, 60, 32)            1056      \n",
      "_________________________________________________________________\n",
      "lambda_1 (Lambda)            (None, 32)                0         \n",
      "_________________________________________________________________\n",
      "dense_1 (Dense)              (None, 100)               3300      \n",
      "_________________________________________________________________\n",
      "output (Dense)               (None, 2)                 202       \n",
      "=================================================================\n",
      "Total params: 9,966\n",
      "Trainable params: 9,870\n",
      "Non-trainable params: 96\n",
      "_________________________________________________________________\n",
      "None\n"
     ]
    }
   ],
   "source": [
    "from keras.models import Model\n",
    "from keras.layers import Input, Dense, BatchNormalization, Conv1D, Flatten, Lambda\n",
    "import keras.backend as K\n",
    "\n",
    "# define dense keras model\n",
    "inputs = Input(shape=(ntracks,nfeatures,), name = 'input')  \n",
    "x = BatchNormalization(name='bn_1')(inputs)\n",
    "x = Conv1D(64, 1, strides=1, padding='same', name = 'conv1d_1', activation='relu')(x)\n",
    "x = Conv1D(32, 1, strides=1, padding='same', name = 'conv1d_2', activation='relu')(x)\n",
    "x = Conv1D(32, 1, strides=1, padding='same', name = 'conv1d_3', activation='relu')(x)\n",
    "#x = Flatten(name='flatten_1')(x)\n",
    "# sum over tracks\n",
    "x = Lambda(lambda x: K.mean(x, axis=-2), name = 'lambda_1', input_shape=(ntracks,32))(x)\n",
    "x = Dense(100, name = 'dense_1', activation='relu')(x)\n",
    "outputs = Dense(nlabels, name = 'output', activation='softmax')(x)\n",
    "keras_model_conv1d = Model(inputs=inputs, outputs=outputs)\n",
    "keras_model_conv1d.compile(optimizer='adam', loss='categorical_crossentropy', metrics=['accuracy'])\n",
    "print(keras_model_conv1d.summary())"
   ]
  },
  {
   "cell_type": "code",
   "execution_count": 10,
   "metadata": {},
   "outputs": [],
   "source": [
    "# define callbacks\n",
    "from keras.callbacks import ModelCheckpoint, EarlyStopping, ReduceLROnPlateau\n",
    "\n",
    "early_stopping = EarlyStopping(monitor='val_loss', patience=20)\n",
    "reduce_lr = ReduceLROnPlateau(patience=5,factor=0.5)\n",
    "model_checkpoint = ModelCheckpoint('keras_model_conv1d_best.h5', monitor='val_loss', save_best_only=True)\n",
    "callbacks = [early_stopping, model_checkpoint, reduce_lr]\n",
    "\n",
    "# fit keras model\n",
    "history_conv1d = keras_model_conv1d.fit(feature_array, label_array, batch_size=1024, \n",
    "                          epochs=150, validation_split=0.2, shuffle=False,\n",
    "                          callbacks = callbacks, verbose=0)\n",
    "# reload best weights\n",
    "keras_model_conv1d.load_weights('keras_model_conv1d_best.h5')"
   ]
  },
  {
   "cell_type": "code",
   "execution_count": 11,
   "metadata": {},
   "outputs": [
    {
     "data": {
      "image/png": "[encoded data removed]",
      "text/plain": [
       "<Figure size 432x288 with 1 Axes>"
      ]
     },
     "metadata": {
      "needs_background": "light"
     },
     "output_type": "display_data"
    }
   ],
   "source": [
    "plt.figure()\n",
    "plt.plot(history_conv1d.history['loss'],label='Loss')\n",
    "plt.plot(history_conv1d.history['val_loss'],label='Val. loss')\n",
    "plt.xlabel('Epoch')\n",
    "plt.legend()\n",
    "plt.show()"
   ]
  },
  {
   "cell_type": "code",
   "execution_count": 12,
   "metadata": {},
   "outputs": [],
   "source": [
    "# load testing file\n",
    "feature_array_test, label_array_test, spec_array_test = get_features_labels('root://eospublic.cern.ch//eos/opendata/cms/datascience/HiggsToBBNtupleProducerTool/HiggsToBBNTuple_HiggsToBB_QCD_RunII_13TeV_MC/test/ntuple_merged_0.root', \n",
    "                                                                            remove_mass_pt_window=True,\n",
    "                                                                            entrystop=30000)"
   ]
  },
  {
   "cell_type": "code",
   "execution_count": 14,
   "metadata": {},
   "outputs": [
    {
     "data": {
      "image/png": "[encoded data removed]",
      "text/plain": [
       "<Figure size 432x288 with 1 Axes>"
      ]
     },
     "metadata": {
      "needs_background": "light"
     },
     "output_type": "display_data"
    }
   ],
   "source": [
    "# run model inference on test data set\n",
    "predict_array_dnn = keras_model_dense.predict(feature_array_test)\n",
    "predict_array_cnn = keras_model_conv1d.predict(feature_array_test)\n",
    "\n",
    "# create ROC curves\n",
    "fpr_dnn, tpr_dnn, threshold_dnn = roc_curve(label_array_test[:,1], predict_array_dnn[:,1])\n",
    "fpr_cnn, tpr_cnn, threshold_cnn = roc_curve(label_array_test[:,1], predict_array_cnn[:,1])\n",
    "    \n",
    "# plot ROC curves\n",
    "plt.figure()\n",
    "plt.plot(tpr_dnn, fpr_dnn, lw=2.5, label=\"Dense, AUC = {:.1f}%\".format(auc(fpr_cnn,tpr_cnn)*100))\n",
    "plt.plot(tpr_cnn, fpr_cnn, lw=2.5, label=\"Conv1D, AUC = {:.1f}%\".format(auc(fpr_cnn,tpr_cnn)*100))\n",
    "plt.xlabel(r'True positive rate')\n",
    "plt.ylabel(r'False positive rate')\n",
    "plt.semilogy()\n",
    "plt.ylim(0.001,1)\n",
    "plt.xlim(0,1)\n",
    "plt.grid(True)\n",
    "plt.legend(loc='upper left')\n",
    "plt.show()"
   ]
  },
  {
   "cell_type": "markdown",
   "metadata": {},
   "source": [
    "We see the more structurally-aware Conv1D/DeepSets model does better than a simple fully conneted neural network appraoch."
   ]
  },
  {
   "cell_type": "code",
   "execution_count": null,
   "metadata": {},
   "outputs": [],
   "source": []
  }
 ],
 "metadata": {
  "kernelspec": {
   "display_name": "Python 3",
   "language": "python",
   "name": "python3"
  },
  "language_info": {
   "codemirror_mode": {
    "name": "ipython",
    "version": 3
   },
   "file_extension": ".py",
   "mimetype": "text/x-python",
   "name": "python",
   "nbconvert_exporter": "python",
   "pygments_lexer": "ipython3",
   "version": "3.7.6"
  }
 },
 "nbformat": 4,
 "nbformat_minor": 2
}
