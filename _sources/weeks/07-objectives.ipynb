{
 "cells": [
  {
   "cell_type": "markdown",
   "metadata": {},
   "source": [
    "Week 7 Notebook: Optimizing Other Objectives\n",
    "===============================================================\n",
    "\n",
    "This week, we will look at optimizing multiple objectives simultaneously. In particular, we will look at pivoting with adversarial neural networks {cite}`Louppe:2016ylz,ganin2014unsupervised,Sirunyan:2019nfw`."
   ]
  },
  {
   "cell_type": "code",
   "execution_count": 1,
   "metadata": {},
   "outputs": [
    {
     "name": "stderr",
     "output_type": "stream",
     "text": [
      "Using TensorFlow backend.\n"
     ]
    }
   ],
   "source": [
    "import keras\n",
    "import numpy as np\n",
    "from sklearn.metrics import roc_curve, auc\n",
    "import matplotlib.pyplot as plt\n",
    "import uproot"
   ]
  },
  {
   "cell_type": "code",
   "execution_count": 2,
   "metadata": {},
   "outputs": [],
   "source": [
    "# 48 track-level features\n",
    "features = ['track_pt',\n",
    "            'track_ptrel',\n",
    "            'trackBTag_Eta',\n",
    "            'trackBTag_DeltaR',\n",
    "            'trackBTag_EtaRel',\n",
    "            'trackBTag_JetDistVal',\n",
    "            'trackBTag_Momentum',\n",
    "            'trackBTag_PPar',\n",
    "            'trackBTag_PParRatio',\n",
    "            'trackBTag_PtRatio',\n",
    "            'trackBTag_PtRel',\n",
    "            'trackBTag_Sip2dSig',\n",
    "            'trackBTag_Sip2dVal',\n",
    "            'trackBTag_Sip3dSig',\n",
    "            'trackBTag_Sip3dVal',\n",
    "            'track_VTX_ass',\n",
    "            'track_charge',\n",
    "            'track_deltaR',\n",
    "            'track_detadeta',\n",
    "            'track_dlambdadz',\n",
    "            'track_dlambdadz',\n",
    "            'track_dphidphi',\n",
    "            'track_dphidxy',\n",
    "            'track_dptdpt',\n",
    "            'track_drminsv',\n",
    "            'track_drsubjet1',\n",
    "            'track_drsubjet2',\n",
    "            'track_dxy',\n",
    "            'track_dxydxy',\n",
    "            'track_dxydz',\n",
    "            'track_dxysig',\n",
    "            'track_dz',\n",
    "            'track_dzdz',        \n",
    "            'track_dzsig',\n",
    "            'track_erel',\n",
    "            'track_etarel',\n",
    "            'track_fromPV',\n",
    "            'track_isChargedHad',\n",
    "            'track_isEl',\n",
    "            'track_isMu',\n",
    "            'track_lostInnerHits',\n",
    "            'track_mass',\n",
    "            'track_normchi2',            \n",
    "            'track_phirel',\n",
    "            'track_pt',\n",
    "            'track_ptrel',\n",
    "            'track_puppiw',\n",
    "            'track_quality']\n",
    "\n",
    "# spectators to define mass/pT window\n",
    "spectators = ['fj_sdmass',\n",
    "              'fj_pt']\n",
    "\n",
    "# 2 labels: QCD or Hbb (we'll reduce the following labels)\n",
    "labels =  ['label_QCD_b',\n",
    "           'label_QCD_bb',\n",
    "           'label_QCD_c', \n",
    "           'label_QCD_cc', \n",
    "           'label_QCD_others',\n",
    "           'sample_isQCD',\n",
    "           'label_H_bb']\n",
    "\n",
    "nfeatures = len(features)\n",
    "nspectators = len(spectators)\n",
    "nlabels = 2\n",
    "\n",
    "# we're going to zero-pad up to 60 tracks\n",
    "ntracks = 60"
   ]
  },
  {
   "cell_type": "code",
   "execution_count": 3,
   "metadata": {},
   "outputs": [],
   "source": [
    "from DataGenerator import DataGenerator"
   ]
  },
  {
   "cell_type": "markdown",
   "metadata": {},
   "source": [
    "## Define Gradient Reversal Layer\n",
    "Here, we define a gradient reversal layer"
   ]
  },
  {
   "cell_type": "code",
   "execution_count": 4,
   "metadata": {},
   "outputs": [],
   "source": [
    "import tensorflow as tf\n",
    "@tf.custom_gradient\n",
    "def grad_reverse(x):\n",
    "    y = tf.identity(x)\n",
    "    def custom_grad(dy):\n",
    "        return -dy\n",
    "    return y, custom_grad\n",
    "\n",
    "class GradReverse(keras.layers.Layer):\n",
    "    def __init__(self, name='GradReverse'):\n",
    "        super().__init__(name=name)\n",
    "\n",
    "    def call(self, x):\n",
    "        return grad_reverse(x)"
   ]
  },
  {
   "cell_type": "markdown",
   "metadata": {},
   "source": [
    "## Define Combined Model with Adversarial Neural Network"
   ]
  },
  {
   "cell_type": "code",
   "execution_count": 5,
   "metadata": {},
   "outputs": [
    {
     "name": "stdout",
     "output_type": "stream",
     "text": [
      "Model: \"model_1\"\n",
      "__________________________________________________________________________________________________\n",
      "Layer (type)                    Output Shape         Param #     Connected to                     \n",
      "==================================================================================================\n",
      "input (InputLayer)              (None, 60, 48)       0                                            \n",
      "__________________________________________________________________________________________________\n",
      "bn_1 (BatchNormalization)       (None, 60, 48)       192         input[0][0]                      \n",
      "__________________________________________________________________________________________________\n",
      "conv1d_1 (Conv1D)               (None, 60, 64)       3136        bn_1[0][0]                       \n",
      "__________________________________________________________________________________________________\n",
      "conv1d_2 (Conv1D)               (None, 60, 32)       2080        conv1d_1[0][0]                   \n",
      "__________________________________________________________________________________________________\n",
      "conv1d_3 (Conv1D)               (None, 60, 32)       1056        conv1d_2[0][0]                   \n",
      "__________________________________________________________________________________________________\n",
      "lambda_1 (Lambda)               (None, 32)           0           conv1d_3[0][0]                   \n",
      "__________________________________________________________________________________________________\n",
      "dense_1 (Dense)                 (None, 100)          3300        lambda_1[0][0]                   \n",
      "__________________________________________________________________________________________________\n",
      "output (Dense)                  (None, 2)            202         dense_1[0][0]                    \n",
      "__________________________________________________________________________________________________\n",
      "concat_1 (Concatenate)          (None, 102)          0           dense_1[0][0]                    \n",
      "                                                                 output[0][0]                     \n",
      "__________________________________________________________________________________________________\n",
      "reverse_1 (GradReverse)         (None, 102)          0           concat_1[0][0]                   \n",
      "__________________________________________________________________________________________________\n",
      "dense_2 (Dense)                 (None, 100)          10300       reverse_1[0][0]                  \n",
      "__________________________________________________________________________________________________\n",
      "dense_3 (Dense)                 (None, 100)          10100       dense_2[0][0]                    \n",
      "__________________________________________________________________________________________________\n",
      "mass_pt_reg (Dense)             (None, 2)            202         dense_3[0][0]                    \n",
      "==================================================================================================\n",
      "Total params: 30,568\n",
      "Trainable params: 30,472\n",
      "Non-trainable params: 96\n",
      "__________________________________________________________________________________________________\n",
      "None\n"
     ]
    }
   ],
   "source": [
    "from keras.models import Model\n",
    "from keras.layers import Input, Dense, BatchNormalization, Conv1D, Flatten, Lambda, Concatenate\n",
    "import keras.backend as K\n",
    "\n",
    "# define Deep Sets model with Conv1D Keras layer\n",
    "inputs = Input(shape=(ntracks,nfeatures,), name = 'input')  \n",
    "x = BatchNormalization(name='bn_1')(inputs)\n",
    "x = Conv1D(64, 1, strides=1, padding='same', name = 'conv1d_1', activation='relu')(x)\n",
    "x = Conv1D(32, 1, strides=1, padding='same', name = 'conv1d_2', activation='relu')(x)\n",
    "x = Conv1D(32, 1, strides=1, padding='same', name = 'conv1d_3', activation='relu')(x)\n",
    "# sum over tracks\n",
    "x = Lambda(lambda x: K.mean(x, axis=-2), name = 'lambda_1', input_shape=(ntracks,32))(x)\n",
    "x = Dense(100, name = 'dense_1', activation='relu')(x)\n",
    "output = Dense(nlabels, name = 'output', activation='softmax')(x)\n",
    " \n",
    "# start adversarial part\n",
    "input_reg = Concatenate(name='concat_1')([x, output])\n",
    "x = GradReverse(name='reverse_1')(input_reg)\n",
    "x = Dense(100, name='dense_2', activation ='relu')(x)\n",
    "x = Dense(100, name= 'dense_3',activation='relu')(x)\n",
    "output_reg = Dense(2, activation='linear', name='mass_pt_reg')(x)\n",
    "#outputs = Concatenate(name='concat_2')([output_reg, output])\n",
    "                                                            \n",
    "\n",
    "keras_model_adv = Model(inputs=inputs, outputs=[output, output_reg])\n",
    "keras_model_adv.compile(optimizer='adam', \n",
    "                        loss=['categorical_crossentropy', 'mse'], \n",
    "                        loss_weights = [1,1])\n",
    "print(keras_model_adv.summary())"
   ]
  },
  {
   "cell_type": "code",
   "execution_count": 6,
   "metadata": {},
   "outputs": [],
   "source": [
    "# load training and validation generators \n",
    "train_files = ['root://eospublic.cern.ch//eos/opendata/cms/datascience/HiggsToBBNtupleProducerTool/HiggsToBBNTuple_HiggsToBB_QCD_RunII_13TeV_MC/train/ntuple_merged_10.root']\n",
    "val_files = ['root://eospublic.cern.ch//eos/opendata/cms/datascience/HiggsToBBNtupleProducerTool/HiggsToBBNTuple_HiggsToBB_QCD_RunII_13TeV_MC/train/ntuple_merged_11.root']\n",
    "\n",
    "\n",
    "train_generator = DataGenerator(train_files, features, labels, spectators, batch_size=1024, n_dim=ntracks, \n",
    "                                remove_mass_pt_window=False, \n",
    "                                remove_unlabeled=True, max_entry=5000,\n",
    "                                return_spectators=True, scale_mass_pt=[100.,1000.])\n",
    "\n",
    "val_generator = DataGenerator(val_files, features, labels, spectators, batch_size=1024, n_dim=ntracks, \n",
    "                              remove_mass_pt_window=False, \n",
    "                              remove_unlabeled=True, max_entry=5000, \n",
    "                              return_spectators=True, scale_mass_pt=[100.,1000.])"
   ]
  },
  {
   "cell_type": "code",
   "execution_count": 14,
   "metadata": {},
   "outputs": [
    {
     "name": "stdout",
     "output_type": "stream",
     "text": [
      "Epoch 1/100\n",
      "4/4 [==============================] - 3s 675ms/step - loss: 3.4473 - output_loss: 1.0526 - mass_pt_reg_loss: 2394590.0000 - val_loss: 2.4703 - val_output_loss: 1.0977 - val_mass_pt_reg_loss: 1131791.0000\n",
      "Epoch 2/100\n",
      "4/4 [==============================] - 2s 607ms/step - loss: 3.4213 - output_loss: 1.0453 - mass_pt_reg_loss: 2375879.0000 - val_loss: 2.4404 - val_output_loss: 1.0759 - val_mass_pt_reg_loss: 1127022.3750\n",
      "Epoch 3/100\n",
      "4/4 [==============================] - 2s 623ms/step - loss: 3.3943 - output_loss: 1.0376 - mass_pt_reg_loss: 2356625.2500 - val_loss: 2.4125 - val_output_loss: 1.0556 - val_mass_pt_reg_loss: 1122725.7500\n",
      "Epoch 4/100\n",
      "4/4 [==============================] - 2s 613ms/step - loss: 3.3697 - output_loss: 1.0311 - mass_pt_reg_loss: 2338500.0000 - val_loss: 2.3878 - val_output_loss: 1.0376 - val_mass_pt_reg_loss: 1119223.6250\n",
      "Epoch 5/100\n",
      "4/4 [==============================] - 2s 622ms/step - loss: 3.3471 - output_loss: 1.0256 - mass_pt_reg_loss: 2321398.5000 - val_loss: 2.3646 - val_output_loss: 1.0210 - val_mass_pt_reg_loss: 1116119.8750\n",
      "Epoch 6/100\n",
      "4/4 [==============================] - 3s 679ms/step - loss: 3.3253 - output_loss: 1.0205 - mass_pt_reg_loss: 2304675.0000 - val_loss: 2.3415 - val_output_loss: 1.0047 - val_mass_pt_reg_loss: 1113033.2500\n",
      "Epoch 7/100\n",
      "4/4 [==============================] - 2s 600ms/step - loss: 3.3032 - output_loss: 1.0153 - mass_pt_reg_loss: 2287795.5000 - val_loss: 2.3191 - val_output_loss: 0.9892 - val_mass_pt_reg_loss: 1110145.0000\n",
      "Epoch 8/100\n",
      "4/4 [==============================] - 3s 636ms/step - loss: 3.2809 - output_loss: 1.0099 - mass_pt_reg_loss: 2270860.2500 - val_loss: 2.2961 - val_output_loss: 0.9734 - val_mass_pt_reg_loss: 1107105.3750\n",
      "Epoch 9/100\n",
      "4/4 [==============================] - 3s 698ms/step - loss: 3.2568 - output_loss: 1.0036 - mass_pt_reg_loss: 2253091.2500 - val_loss: 2.2721 - val_output_loss: 0.9572 - val_mass_pt_reg_loss: 1103803.8750\n",
      "Epoch 10/100\n",
      "4/4 [==============================] - 2s 614ms/step - loss: 3.2313 - output_loss: 0.9966 - mass_pt_reg_loss: 2234613.2500 - val_loss: 2.2478 - val_output_loss: 0.9409 - val_mass_pt_reg_loss: 1100336.2500\n",
      "Epoch 11/100\n",
      "4/4 [==============================] - 3s 636ms/step - loss: 3.2049 - output_loss: 0.9891 - mass_pt_reg_loss: 2215718.5000 - val_loss: 2.2235 - val_output_loss: 0.9248 - val_mass_pt_reg_loss: 1096825.2500\n",
      "Epoch 12/100\n",
      "4/4 [==============================] - 3s 663ms/step - loss: 3.1779 - output_loss: 0.9813 - mass_pt_reg_loss: 2196588.2500 - val_loss: 2.2001 - val_output_loss: 0.9093 - val_mass_pt_reg_loss: 1093487.1250\n",
      "Epoch 13/100\n",
      "4/4 [==============================] - 2s 603ms/step - loss: 3.1519 - output_loss: 0.9739 - mass_pt_reg_loss: 2177894.0000 - val_loss: 2.1785 - val_output_loss: 0.8951 - val_mass_pt_reg_loss: 1090560.6250\n",
      "Epoch 14/100\n",
      "4/4 [==============================] - 3s 650ms/step - loss: 3.1275 - output_loss: 0.9674 - mass_pt_reg_loss: 2160046.0000 - val_loss: 2.1588 - val_output_loss: 0.8821 - val_mass_pt_reg_loss: 1088038.2500\n",
      "Epoch 15/100\n",
      "2/4 [==============>...............] - ETA: 1s - loss: 3.0616 - output_loss: 1.0178 - mass_pt_reg_loss: 2043851.0000"
     ]
    },
    {
     "name": "stderr",
     "output_type": "stream",
     "text": [
      "/opt/conda/lib/python3.7/site-packages/keras/callbacks/callbacks.py:95: RuntimeWarning: Method (on_train_batch_end) is slow compared to the batch update (0.129544). Check your callbacks.\n",
      "  % (hook_name, delta_t_median), RuntimeWarning)\n"
     ]
    },
    {
     "name": "stdout",
     "output_type": "stream",
     "text": [
      "4/4 [==============================] - 3s 700ms/step - loss: 3.1047 - output_loss: 0.9616 - mass_pt_reg_loss: 2142969.0000 - val_loss: 2.1410 - val_output_loss: 0.8703 - val_mass_pt_reg_loss: 1085920.7500\n",
      "Epoch 16/100\n",
      "4/4 [==============================] - 3s 652ms/step - loss: 3.0830 - output_loss: 0.9564 - mass_pt_reg_loss: 2126475.7500 - val_loss: 2.1241 - val_output_loss: 0.8592 - val_mass_pt_reg_loss: 1083975.5000\n",
      "Epoch 17/100\n",
      "4/4 [==============================] - 2s 598ms/step - loss: 3.0606 - output_loss: 0.9508 - mass_pt_reg_loss: 2109688.2500 - val_loss: 2.1071 - val_output_loss: 0.8482 - val_mass_pt_reg_loss: 1081937.7500\n",
      "Epoch 18/100\n",
      "4/4 [==============================] - 3s 634ms/step - loss: 3.0381 - output_loss: 0.9452 - mass_pt_reg_loss: 2092843.8750 - val_loss: 2.0904 - val_output_loss: 0.8375 - val_mass_pt_reg_loss: 1079957.1250\n",
      "Epoch 19/100\n",
      "4/4 [==============================] - 3s 678ms/step - loss: 3.0154 - output_loss: 0.9394 - mass_pt_reg_loss: 2075935.8750 - val_loss: 2.0738 - val_output_loss: 0.8270 - val_mass_pt_reg_loss: 1077922.0000\n",
      "Epoch 20/100\n",
      "4/4 [==============================] - 2s 602ms/step - loss: 2.9924 - output_loss: 0.9334 - mass_pt_reg_loss: 2058875.3750 - val_loss: 2.0572 - val_output_loss: 0.8166 - val_mass_pt_reg_loss: 1075829.6250\n",
      "Epoch 21/100\n",
      "4/4 [==============================] - 3s 637ms/step - loss: 2.9689 - output_loss: 0.9272 - mass_pt_reg_loss: 2041605.5000 - val_loss: 2.0401 - val_output_loss: 0.8060 - val_mass_pt_reg_loss: 1073566.5000\n",
      "Epoch 22/100\n",
      "4/4 [==============================] - 3s 677ms/step - loss: 2.9441 - output_loss: 0.9203 - mass_pt_reg_loss: 2023747.5000 - val_loss: 2.0219 - val_output_loss: 0.7950 - val_mass_pt_reg_loss: 1070972.1250\n",
      "Epoch 23/100\n",
      "1/4 [======>.......................] - ETA: 1s - loss: 3.0057 - output_loss: 0.9672 - mass_pt_reg_loss: 2038452.5000"
     ]
    },
    {
     "name": "stderr",
     "output_type": "stream",
     "text": [
      "/opt/conda/lib/python3.7/site-packages/keras/callbacks/callbacks.py:95: RuntimeWarning: Method (on_train_batch_end) is slow compared to the batch update (0.140051). Check your callbacks.\n",
      "  % (hook_name, delta_t_median), RuntimeWarning)\n"
     ]
    },
    {
     "name": "stdout",
     "output_type": "stream",
     "text": [
      "\b\b\b\b\b\b\b\b\b\b\b\b\b\b\b\b\b\b\b\b\b\b\b\b\b\b\b\b\b\b\b\b\b\b\b\b\b\b\b\b\b\b\b\b\b\b\b\b\b\b\b\b\b\b\b\b\b\b\b\b\b\b\b\b\b\b\b\b\b\b\b\b\b\b\b\b\b\b\b\b\b\b\b\b\b\b\b\b\b\b\b\b\b\b\b\b\b\b\b\b\b\b\b\b\b\b\b\b\b\b\b\b\b\b\b\b\r",
      "2/4 [==============>...............] - ETA: 1s - loss: 2.8800 - output_loss: 0.9691 - mass_pt_reg_loss: 1910816.0000"
     ]
    },
    {
     "name": "stderr",
     "output_type": "stream",
     "text": [
      "/opt/conda/lib/python3.7/site-packages/keras/callbacks/callbacks.py:95: RuntimeWarning: Method (on_train_batch_end) is slow compared to the batch update (0.122471). Check your callbacks.\n",
      "  % (hook_name, delta_t_median), RuntimeWarning)\n"
     ]
    },
    {
     "name": "stdout",
     "output_type": "stream",
     "text": [
      "\b\b\b\b\b\b\b\b\b\b\b\b\b\b\b\b\b\b\b\b\b\b\b\b\b\b\b\b\b\b\b\b\b\b\b\b\b\b\b\b\b\b\b\b\b\b\b\b\b\b\b\b\b\b\b\b\b\b\b\b\b\b\b\b\b\b\b\b\b\b\b\b\b\b\b\b\b\b\b\b\b\b\b\b\b\b\b\b\b\b\b\b\b\b\b\b\b\b\b\b\b\b\b\b\b\b\b\b\b\b\b\b\b\b\b\b\r",
      "3/4 [=====================>........] - ETA: 0s - loss: 2.9465 - output_loss: 0.9519 - mass_pt_reg_loss: 1994619.3750"
     ]
    },
    {
     "name": "stderr",
     "output_type": "stream",
     "text": [
      "/opt/conda/lib/python3.7/site-packages/keras/callbacks/callbacks.py:95: RuntimeWarning: Method (on_train_batch_end) is slow compared to the batch update (0.104891). Check your callbacks.\n",
      "  % (hook_name, delta_t_median), RuntimeWarning)\n"
     ]
    },
    {
     "name": "stdout",
     "output_type": "stream",
     "text": [
      "4/4 [==============================] - 2s 595ms/step - loss: 2.9178 - output_loss: 0.9125 - mass_pt_reg_loss: 2005200.7500 - val_loss: 2.0029 - val_output_loss: 0.7838 - val_mass_pt_reg_loss: 1068134.7500\n",
      "Epoch 24/100\n",
      "4/4 [==============================] - 3s 646ms/step - loss: 2.8908 - output_loss: 0.9044 - mass_pt_reg_loss: 1986353.3750 - val_loss: 1.9839 - val_output_loss: 0.7726 - val_mass_pt_reg_loss: 1065223.8750\n",
      "Epoch 25/100\n",
      "4/4 [==============================] - 3s 648ms/step - loss: 2.8634 - output_loss: 0.8959 - mass_pt_reg_loss: 1967335.3750 - val_loss: 1.9649 - val_output_loss: 0.7616 - val_mass_pt_reg_loss: 1062268.1250\n",
      "Epoch 26/100\n",
      "4/4 [==============================] - 3s 663ms/step - loss: 2.8359 - output_loss: 0.8874 - mass_pt_reg_loss: 1948375.2500 - val_loss: 1.9466 - val_output_loss: 0.7512 - val_mass_pt_reg_loss: 1059417.0000\n",
      "Epoch 27/100\n",
      "4/4 [==============================] - 2s 601ms/step - loss: 2.8094 - output_loss: 0.8794 - mass_pt_reg_loss: 1929926.0000 - val_loss: 1.9294 - val_output_loss: 0.7416 - val_mass_pt_reg_loss: 1056798.8750\n",
      "Epoch 28/100\n",
      "4/4 [==============================] - 3s 644ms/step - loss: 2.7837 - output_loss: 0.8716 - mass_pt_reg_loss: 1911941.8750 - val_loss: 1.9128 - val_output_loss: 0.7324 - val_mass_pt_reg_loss: 1054243.0000\n",
      "Epoch 29/100\n",
      "4/4 [==============================] - 2s 620ms/step - loss: 2.7587 - output_loss: 0.8643 - mass_pt_reg_loss: 1894379.0000 - val_loss: 1.8976 - val_output_loss: 0.7240 - val_mass_pt_reg_loss: 1052019.1250\n",
      "Epoch 30/100\n",
      "4/4 [==============================] - 3s 708ms/step - loss: 2.7351 - output_loss: 0.8575 - mass_pt_reg_loss: 1877513.1250 - val_loss: 1.8829 - val_output_loss: 0.7160 - val_mass_pt_reg_loss: 1049841.8750\n",
      "Epoch 31/100\n",
      "4/4 [==============================] - 2s 596ms/step - loss: 2.7113 - output_loss: 0.8506 - mass_pt_reg_loss: 1860645.7500 - val_loss: 1.8684 - val_output_loss: 0.7082 - val_mass_pt_reg_loss: 1047602.1250\n",
      "Epoch 32/100\n",
      "4/4 [==============================] - 3s 690ms/step - loss: 2.6873 - output_loss: 0.8435 - mass_pt_reg_loss: 1843691.6250 - val_loss: 1.8537 - val_output_loss: 0.7004 - val_mass_pt_reg_loss: 1045230.8750\n",
      "Epoch 33/100\n",
      "4/4 [==============================] - 2s 610ms/step - loss: 2.6626 - output_loss: 0.8360 - mass_pt_reg_loss: 1826460.8750 - val_loss: 1.8388 - val_output_loss: 0.6926 - val_mass_pt_reg_loss: 1042691.2500\n",
      "Epoch 34/100\n",
      "4/4 [==============================] - 3s 674ms/step - loss: 2.6376 - output_loss: 0.8284 - mass_pt_reg_loss: 1809154.5000 - val_loss: 1.8242 - val_output_loss: 0.6850 - val_mass_pt_reg_loss: 1040182.7500\n",
      "Epoch 35/100\n",
      "4/4 [==============================] - 2s 586ms/step - loss: 2.6130 - output_loss: 0.8208 - mass_pt_reg_loss: 1792058.0000 - val_loss: 1.8099 - val_output_loss: 0.6778 - val_mass_pt_reg_loss: 1037724.3750\n",
      "Epoch 36/100\n",
      "1/4 [======>.......................] - ETA: 1s - loss: 2.6872 - output_loss: 0.8770 - mass_pt_reg_loss: 1810135.5000"
     ]
    },
    {
     "name": "stderr",
     "output_type": "stream",
     "text": [
      "/opt/conda/lib/python3.7/site-packages/keras/callbacks/callbacks.py:95: RuntimeWarning: Method (on_train_batch_end) is slow compared to the batch update (0.120085). Check your callbacks.\n",
      "  % (hook_name, delta_t_median), RuntimeWarning)\n"
     ]
    },
    {
     "name": "stdout",
     "output_type": "stream",
     "text": [
      "4/4 [==============================] - 3s 678ms/step - loss: 2.5888 - output_loss: 0.8135 - mass_pt_reg_loss: 1775229.1250 - val_loss: 1.7963 - val_output_loss: 0.6710 - val_mass_pt_reg_loss: 1035391.1875\n",
      "Epoch 37/100\n",
      "4/4 [==============================] - 3s 670ms/step - loss: 2.5652 - output_loss: 0.8064 - mass_pt_reg_loss: 1758771.0000 - val_loss: 1.7834 - val_output_loss: 0.6645 - val_mass_pt_reg_loss: 1033187.5000\n",
      "Epoch 38/100\n",
      "4/4 [==============================] - 3s 648ms/step - loss: 2.5425 - output_loss: 0.7997 - mass_pt_reg_loss: 1742766.2500 - val_loss: 1.7712 - val_output_loss: 0.6585 - val_mass_pt_reg_loss: 1031122.0625\n",
      "Epoch 39/100\n",
      "4/4 [==============================] - 3s 637ms/step - loss: 2.5203 - output_loss: 0.7931 - mass_pt_reg_loss: 1727038.5000 - val_loss: 1.7590 - val_output_loss: 0.6526 - val_mass_pt_reg_loss: 1029001.5625\n",
      "Epoch 40/100\n",
      "4/4 [==============================] - 3s 649ms/step - loss: 2.4974 - output_loss: 0.7863 - mass_pt_reg_loss: 1711087.0000 - val_loss: 1.7467 - val_output_loss: 0.6466 - val_mass_pt_reg_loss: 1026742.3750\n",
      "Epoch 41/100\n",
      "4/4 [==============================] - 3s 654ms/step - loss: 2.4745 - output_loss: 0.7793 - mass_pt_reg_loss: 1695133.6250 - val_loss: 1.7349 - val_output_loss: 0.6409 - val_mass_pt_reg_loss: 1024554.6250\n",
      "Epoch 42/100\n",
      "4/4 [==============================] - 2s 619ms/step - loss: 2.4523 - output_loss: 0.7726 - mass_pt_reg_loss: 1679605.1250 - val_loss: 1.7236 - val_output_loss: 0.6355 - val_mass_pt_reg_loss: 1022539.5625\n",
      "Epoch 43/100\n",
      "1/4 [======>.......................] - ETA: 2s - loss: 2.5330 - output_loss: 0.8334 - mass_pt_reg_loss: 1699607.5000"
     ]
    },
    {
     "name": "stderr",
     "output_type": "stream",
     "text": [
      "/opt/conda/lib/python3.7/site-packages/keras/callbacks/callbacks.py:95: RuntimeWarning: Method (on_train_batch_end) is slow compared to the batch update (0.146242). Check your callbacks.\n",
      "  % (hook_name, delta_t_median), RuntimeWarning)\n"
     ]
    },
    {
     "name": "stdout",
     "output_type": "stream",
     "text": [
      "4/4 [==============================] - 3s 757ms/step - loss: 2.4305 - output_loss: 0.7661 - mass_pt_reg_loss: 1664323.8750 - val_loss: 1.7121 - val_output_loss: 0.6302 - val_mass_pt_reg_loss: 1020389.6250\n",
      "Epoch 44/100\n",
      "4/4 [==============================] - 3s 649ms/step - loss: 2.4080 - output_loss: 0.7592 - mass_pt_reg_loss: 1648740.2500 - val_loss: 1.6999 - val_output_loss: 0.6245 - val_mass_pt_reg_loss: 1017936.7500\n",
      "Epoch 45/100\n",
      "4/4 [==============================] - 2s 595ms/step - loss: 2.3845 - output_loss: 0.7516 - mass_pt_reg_loss: 1632766.5000 - val_loss: 1.6874 - val_output_loss: 0.6187 - val_mass_pt_reg_loss: 1015276.0625\n",
      "Epoch 46/100\n",
      "4/4 [==============================] - 3s 751ms/step - loss: 2.3603 - output_loss: 0.7437 - mass_pt_reg_loss: 1616547.3750 - val_loss: 1.6747 - val_output_loss: 0.6128 - val_mass_pt_reg_loss: 1012465.0000\n",
      "Epoch 47/100\n",
      "4/4 [==============================] - 2s 581ms/step - loss: 2.3362 - output_loss: 0.7357 - mass_pt_reg_loss: 1600389.7500 - val_loss: 1.6626 - val_output_loss: 0.6073 - val_mass_pt_reg_loss: 1009760.1250\n",
      "Epoch 48/100\n",
      "4/4 [==============================] - 3s 645ms/step - loss: 2.3129 - output_loss: 0.7281 - mass_pt_reg_loss: 1584714.3750 - val_loss: 1.6513 - val_output_loss: 0.6021 - val_mass_pt_reg_loss: 1007239.1250\n",
      "Epoch 49/100\n",
      "1/4 [======>.......................] - ETA: 1s - loss: 2.3961 - output_loss: 0.7907 - mass_pt_reg_loss: 1605401.1250"
     ]
    },
    {
     "name": "stderr",
     "output_type": "stream",
     "text": [
      "/opt/conda/lib/python3.7/site-packages/keras/callbacks/callbacks.py:95: RuntimeWarning: Method (on_train_batch_end) is slow compared to the batch update (0.126414). Check your callbacks.\n",
      "  % (hook_name, delta_t_median), RuntimeWarning)\n"
     ]
    },
    {
     "name": "stdout",
     "output_type": "stream",
     "text": [
      "4/4 [==============================] - 3s 626ms/step - loss: 2.2905 - output_loss: 0.7209 - mass_pt_reg_loss: 1569554.2500 - val_loss: 1.6409 - val_output_loss: 0.5973 - val_mass_pt_reg_loss: 1004920.1250\n",
      "Epoch 50/100\n",
      "4/4 [==============================] - 3s 629ms/step - loss: 2.2697 - output_loss: 0.7144 - mass_pt_reg_loss: 1555160.6250 - val_loss: 1.6318 - val_output_loss: 0.5931 - val_mass_pt_reg_loss: 1003038.6250\n",
      "Epoch 51/100\n",
      "4/4 [==============================] - 2s 624ms/step - loss: 2.2506 - output_loss: 0.7089 - mass_pt_reg_loss: 1541728.6250 - val_loss: 1.6239 - val_output_loss: 0.5894 - val_mass_pt_reg_loss: 1001531.1875\n",
      "Epoch 52/100\n",
      "4/4 [==============================] - 2s 570ms/step - loss: 2.2330 - output_loss: 0.7039 - mass_pt_reg_loss: 1529028.1250 - val_loss: 1.6166 - val_output_loss: 0.5860 - val_mass_pt_reg_loss: 1000191.7500\n",
      "Epoch 53/100\n",
      "4/4 [==============================] - 3s 651ms/step - loss: 2.2159 - output_loss: 0.6992 - mass_pt_reg_loss: 1516653.2500 - val_loss: 1.6094 - val_output_loss: 0.5827 - val_mass_pt_reg_loss: 998842.5625\n",
      "Epoch 54/100\n",
      "4/4 [==============================] - 2s 612ms/step - loss: 2.1988 - output_loss: 0.6944 - mass_pt_reg_loss: 1504353.1250 - val_loss: 1.6021 - val_output_loss: 0.5793 - val_mass_pt_reg_loss: 997409.5625\n",
      "Epoch 55/100\n",
      "4/4 [==============================] - 3s 627ms/step - loss: 2.1815 - output_loss: 0.6895 - mass_pt_reg_loss: 1491947.5000 - val_loss: 1.5945 - val_output_loss: 0.5757 - val_mass_pt_reg_loss: 995775.2500\n",
      "Epoch 56/100\n",
      "4/4 [==============================] - 3s 658ms/step - loss: 2.1633 - output_loss: 0.6841 - mass_pt_reg_loss: 1479243.7500 - val_loss: 1.5862 - val_output_loss: 0.5718 - val_mass_pt_reg_loss: 993837.1250\n",
      "Epoch 57/100\n",
      "4/4 [==============================] - 2s 616ms/step - loss: 2.1444 - output_loss: 0.6782 - mass_pt_reg_loss: 1466189.8750 - val_loss: 1.5775 - val_output_loss: 0.5678 - val_mass_pt_reg_loss: 991728.9375\n",
      "Epoch 58/100\n",
      "4/4 [==============================] - 2s 614ms/step - loss: 2.1253 - output_loss: 0.6721 - mass_pt_reg_loss: 1453109.2500 - val_loss: 1.5689 - val_output_loss: 0.5638 - val_mass_pt_reg_loss: 989597.5625\n",
      "Epoch 59/100\n",
      "4/4 [==============================] - 3s 676ms/step - loss: 2.1065 - output_loss: 0.6662 - mass_pt_reg_loss: 1440232.0000 - val_loss: 1.5605 - val_output_loss: 0.5599 - val_mass_pt_reg_loss: 987525.0000\n",
      "Epoch 60/100\n",
      "4/4 [==============================] - 2s 609ms/step - loss: 2.0881 - output_loss: 0.6605 - mass_pt_reg_loss: 1427619.0000 - val_loss: 1.5524 - val_output_loss: 0.5561 - val_mass_pt_reg_loss: 985494.4375\n",
      "Epoch 61/100\n",
      "2/4 [==============>...............] - ETA: 1s - loss: 2.0429 - output_loss: 0.7019 - mass_pt_reg_loss: 1341034.0000"
     ]
    },
    {
     "name": "stderr",
     "output_type": "stream",
     "text": [
      "/opt/conda/lib/python3.7/site-packages/keras/callbacks/callbacks.py:95: RuntimeWarning: Method (on_train_batch_end) is slow compared to the batch update (0.128682). Check your callbacks.\n",
      "  % (hook_name, delta_t_median), RuntimeWarning)\n"
     ]
    },
    {
     "name": "stdout",
     "output_type": "stream",
     "text": [
      "4/4 [==============================] - 2s 603ms/step - loss: 2.0700 - output_loss: 0.6548 - mass_pt_reg_loss: 1415185.0000 - val_loss: 1.5442 - val_output_loss: 0.5523 - val_mass_pt_reg_loss: 983438.5000\n",
      "Epoch 62/100\n",
      "4/4 [==============================] - 3s 668ms/step - loss: 2.0522 - output_loss: 0.6492 - mass_pt_reg_loss: 1402917.3750 - val_loss: 1.5363 - val_output_loss: 0.5486 - val_mass_pt_reg_loss: 981398.6875\n",
      "Epoch 63/100\n",
      "4/4 [==============================] - 3s 686ms/step - loss: 2.0345 - output_loss: 0.6436 - mass_pt_reg_loss: 1390798.3750 - val_loss: 1.5285 - val_output_loss: 0.5450 - val_mass_pt_reg_loss: 979317.5625\n",
      "Epoch 64/100\n",
      "4/4 [==============================] - 3s 630ms/step - loss: 2.0167 - output_loss: 0.6380 - mass_pt_reg_loss: 1378710.2500 - val_loss: 1.5204 - val_output_loss: 0.5412 - val_mass_pt_reg_loss: 977059.8750\n",
      "Epoch 65/100\n",
      "4/4 [==============================] - 3s 657ms/step - loss: 1.9986 - output_loss: 0.6320 - mass_pt_reg_loss: 1366486.6250 - val_loss: 1.5121 - val_output_loss: 0.5373 - val_mass_pt_reg_loss: 974696.4375\n",
      "Epoch 66/100\n",
      "4/4 [==============================] - 2s 599ms/step - loss: 1.9806 - output_loss: 0.6262 - mass_pt_reg_loss: 1354399.3750 - val_loss: 1.5043 - val_output_loss: 0.5337 - val_mass_pt_reg_loss: 972437.1250\n",
      "Epoch 67/100\n",
      "4/4 [==============================] - 3s 646ms/step - loss: 1.9635 - output_loss: 0.6207 - mass_pt_reg_loss: 1342736.2500 - val_loss: 1.4970 - val_output_loss: 0.5303 - val_mass_pt_reg_loss: 970303.5625\n",
      "Epoch 68/100\n",
      "4/4 [==============================] - 3s 695ms/step - loss: 1.9467 - output_loss: 0.6153 - mass_pt_reg_loss: 1331348.1250 - val_loss: 1.4898 - val_output_loss: 0.5269 - val_mass_pt_reg_loss: 968127.1250\n",
      "Epoch 69/100\n",
      "4/4 [==============================] - 3s 656ms/step - loss: 1.9301 - output_loss: 0.6100 - mass_pt_reg_loss: 1320064.7500 - val_loss: 1.4828 - val_output_loss: 0.5236 - val_mass_pt_reg_loss: 965959.0000\n",
      "Epoch 70/100\n",
      "4/4 [==============================] - 2s 610ms/step - loss: 1.9138 - output_loss: 0.6048 - mass_pt_reg_loss: 1309012.8750 - val_loss: 1.4761 - val_output_loss: 0.5205 - val_mass_pt_reg_loss: 963813.0625\n",
      "Epoch 71/100\n",
      "4/4 [==============================] - 3s 680ms/step - loss: 1.8978 - output_loss: 0.5996 - mass_pt_reg_loss: 1298131.5000 - val_loss: 1.4696 - val_output_loss: 0.5175 - val_mass_pt_reg_loss: 961678.5000\n",
      "Epoch 72/100\n",
      "4/4 [==============================] - 2s 607ms/step - loss: 1.8820 - output_loss: 0.5946 - mass_pt_reg_loss: 1287433.8750 - val_loss: 1.4632 - val_output_loss: 0.5146 - val_mass_pt_reg_loss: 959576.8125\n",
      "Epoch 73/100\n",
      "4/4 [==============================] - 2s 624ms/step - loss: 1.8666 - output_loss: 0.5897 - mass_pt_reg_loss: 1276953.2500 - val_loss: 1.4571 - val_output_loss: 0.5118 - val_mass_pt_reg_loss: 957518.7500\n",
      "Epoch 74/100\n",
      "4/4 [==============================] - 3s 678ms/step - loss: 1.8516 - output_loss: 0.5849 - mass_pt_reg_loss: 1266724.2500 - val_loss: 1.4512 - val_output_loss: 0.5090 - val_mass_pt_reg_loss: 955488.8750\n",
      "Epoch 75/100\n",
      "4/4 [==============================] - 2s 594ms/step - loss: 1.8369 - output_loss: 0.5802 - mass_pt_reg_loss: 1256672.3750 - val_loss: 1.4453 - val_output_loss: 0.5064 - val_mass_pt_reg_loss: 953497.0000\n",
      "Epoch 76/100\n",
      "4/4 [==============================] - 3s 723ms/step - loss: 1.8227 - output_loss: 0.5758 - mass_pt_reg_loss: 1246910.8750 - val_loss: 1.4400 - val_output_loss: 0.5039 - val_mass_pt_reg_loss: 951650.6250\n",
      "Epoch 77/100\n",
      "4/4 [==============================] - 3s 657ms/step - loss: 1.8093 - output_loss: 0.5717 - mass_pt_reg_loss: 1237549.0000 - val_loss: 1.4353 - val_output_loss: 0.5017 - val_mass_pt_reg_loss: 949958.0000\n",
      "Epoch 78/100\n",
      "4/4 [==============================] - 2s 584ms/step - loss: 1.7966 - output_loss: 0.5680 - mass_pt_reg_loss: 1228600.0000 - val_loss: 1.4312 - val_output_loss: 0.4997 - val_mass_pt_reg_loss: 948445.8125\n",
      "Epoch 79/100\n",
      "4/4 [==============================] - 3s 629ms/step - loss: 1.7845 - output_loss: 0.5645 - mass_pt_reg_loss: 1219974.6250 - val_loss: 1.4275 - val_output_loss: 0.4979 - val_mass_pt_reg_loss: 947023.1250\n",
      "Epoch 80/100\n",
      "4/4 [==============================] - 2s 590ms/step - loss: 1.7730 - output_loss: 0.5613 - mass_pt_reg_loss: 1211649.8750 - val_loss: 1.4241 - val_output_loss: 0.4962 - val_mass_pt_reg_loss: 945674.8750\n",
      "Epoch 81/100\n",
      "4/4 [==============================] - 3s 687ms/step - loss: 1.7616 - output_loss: 0.5581 - mass_pt_reg_loss: 1203450.1250 - val_loss: 1.4207 - val_output_loss: 0.4945 - val_mass_pt_reg_loss: 944236.7500\n",
      "Epoch 82/100\n",
      "4/4 [==============================] - 2s 623ms/step - loss: 1.7502 - output_loss: 0.5549 - mass_pt_reg_loss: 1195299.5000 - val_loss: 1.4173 - val_output_loss: 0.4929 - val_mass_pt_reg_loss: 942777.4375\n",
      "Epoch 83/100\n",
      "4/4 [==============================] - 3s 661ms/step - loss: 1.7390 - output_loss: 0.5518 - mass_pt_reg_loss: 1187242.7500 - val_loss: 1.4139 - val_output_loss: 0.4914 - val_mass_pt_reg_loss: 941268.5000\n",
      "Epoch 84/100\n",
      "4/4 [==============================] - 2s 602ms/step - loss: 1.7280 - output_loss: 0.5487 - mass_pt_reg_loss: 1179320.8750 - val_loss: 1.4107 - val_output_loss: 0.4900 - val_mass_pt_reg_loss: 939790.0625\n",
      "Epoch 85/100\n",
      "4/4 [==============================] - 2s 590ms/step - loss: 1.7173 - output_loss: 0.5457 - mass_pt_reg_loss: 1171559.8750 - val_loss: 1.4077 - val_output_loss: 0.4886 - val_mass_pt_reg_loss: 938336.0000\n",
      "Epoch 86/100\n",
      "4/4 [==============================] - 3s 628ms/step - loss: 1.7068 - output_loss: 0.5428 - mass_pt_reg_loss: 1163949.5000 - val_loss: 1.4047 - val_output_loss: 0.4873 - val_mass_pt_reg_loss: 936848.2500\n",
      "Epoch 87/100\n",
      "4/4 [==============================] - 3s 678ms/step - loss: 1.6963 - output_loss: 0.5399 - mass_pt_reg_loss: 1156382.6250 - val_loss: 1.4015 - val_output_loss: 0.4860 - val_mass_pt_reg_loss: 935244.8750\n",
      "Epoch 88/100\n",
      "4/4 [==============================] - 2s 614ms/step - loss: 1.6857 - output_loss: 0.5369 - mass_pt_reg_loss: 1148799.1250 - val_loss: 1.3982 - val_output_loss: 0.4846 - val_mass_pt_reg_loss: 933525.0625\n",
      "Epoch 89/100\n",
      "4/4 [==============================] - 3s 650ms/step - loss: 1.6750 - output_loss: 0.5338 - mass_pt_reg_loss: 1141193.7500 - val_loss: 1.3946 - val_output_loss: 0.4831 - val_mass_pt_reg_loss: 931648.0000\n",
      "Epoch 90/100\n",
      "4/4 [==============================] - 3s 653ms/step - loss: 1.6641 - output_loss: 0.5305 - mass_pt_reg_loss: 1133538.8750 - val_loss: 1.3910 - val_output_loss: 0.4816 - val_mass_pt_reg_loss: 929681.5000\n",
      "Epoch 91/100\n",
      "4/4 [==============================] - 3s 639ms/step - loss: 1.6532 - output_loss: 0.5272 - mass_pt_reg_loss: 1125936.5000 - val_loss: 1.3873 - val_output_loss: 0.4802 - val_mass_pt_reg_loss: 927644.5000\n",
      "Epoch 92/100\n",
      "4/4 [==============================] - 3s 670ms/step - loss: 1.6424 - output_loss: 0.5240 - mass_pt_reg_loss: 1118444.1250 - val_loss: 1.3837 - val_output_loss: 0.4787 - val_mass_pt_reg_loss: 925593.7500\n",
      "Epoch 93/100\n",
      "4/4 [==============================] - 3s 642ms/step - loss: 1.6317 - output_loss: 0.5207 - mass_pt_reg_loss: 1111005.3750 - val_loss: 1.3799 - val_output_loss: 0.4772 - val_mass_pt_reg_loss: 923422.8125\n",
      "Epoch 94/100\n",
      "4/4 [==============================] - 3s 645ms/step - loss: 1.6209 - output_loss: 0.5173 - mass_pt_reg_loss: 1103583.7500 - val_loss: 1.3759 - val_output_loss: 0.4757 - val_mass_pt_reg_loss: 921161.3750\n",
      "Epoch 95/100\n",
      "4/4 [==============================] - 3s 665ms/step - loss: 1.6102 - output_loss: 0.5140 - mass_pt_reg_loss: 1096233.1250 - val_loss: 1.3721 - val_output_loss: 0.4742 - val_mass_pt_reg_loss: 918892.4375\n",
      "Epoch 96/100\n",
      "4/4 [==============================] - 2s 618ms/step - loss: 1.5999 - output_loss: 0.5108 - mass_pt_reg_loss: 1089057.1250 - val_loss: 1.3685 - val_output_loss: 0.4727 - val_mass_pt_reg_loss: 916676.2500\n",
      "Epoch 97/100\n",
      "4/4 [==============================] - 2s 606ms/step - loss: 1.5899 - output_loss: 0.5078 - mass_pt_reg_loss: 1082109.2500 - val_loss: 1.3652 - val_output_loss: 0.4715 - val_mass_pt_reg_loss: 914575.5625\n",
      "Epoch 98/100\n",
      "4/4 [==============================] - 2s 611ms/step - loss: 1.5804 - output_loss: 0.5049 - mass_pt_reg_loss: 1075413.2500 - val_loss: 1.3621 - val_output_loss: 0.4703 - val_mass_pt_reg_loss: 912503.2500\n"
     ]
    },
    {
     "name": "stdout",
     "output_type": "stream",
     "text": [
      "Epoch 99/100\n",
      "4/4 [==============================] - 2s 602ms/step - loss: 1.5710 - output_loss: 0.5022 - mass_pt_reg_loss: 1068845.3750 - val_loss: 1.3590 - val_output_loss: 0.4691 - val_mass_pt_reg_loss: 910382.3125\n",
      "Epoch 100/100\n",
      "4/4 [==============================] - 3s 643ms/step - loss: 1.5617 - output_loss: 0.4993 - mass_pt_reg_loss: 1062323.7500 - val_loss: 1.3557 - val_output_loss: 0.4679 - val_mass_pt_reg_loss: 908142.3750\n"
     ]
    }
   ],
   "source": [
    "# define callbacks\n",
    "from keras.callbacks import ModelCheckpoint, EarlyStopping, ReduceLROnPlateau\n",
    "\n",
    "model_checkpoint = ModelCheckpoint('keras_model_adv_best.h5', monitor='val_loss', save_best_only=True)\n",
    "callbacks = [model_checkpoint]\n",
    "\n",
    "# fit keras model\n",
    "history_adv = keras_model_adv.fit(train_generator, \n",
    "                                  validation_data = val_generator, \n",
    "                                  steps_per_epoch=len(train_generator), \n",
    "                                  validation_steps=len(val_generator),\n",
    "                                  max_queue_size=5,\n",
    "                                  epochs=100, \n",
    "                                  shuffle=False,\n",
    "                                  callbacks = callbacks, \n",
    "                                  verbose=1)\n",
    "# reload best weights\n",
    "keras_model_adv.load_weights('keras_model_adv_best.h5')"
   ]
  },
  {
   "cell_type": "code",
   "execution_count": 15,
   "metadata": {},
   "outputs": [],
   "source": [
    "# load testing file\n",
    "test_files = ['root://eospublic.cern.ch//eos/opendata/cms/datascience/HiggsToBBNtupleProducerTool/HiggsToBBNTuple_HiggsToBB_QCD_RunII_13TeV_MC/test/ntuple_merged_0.root'\n",
    "             ]\n",
    "test_generator = DataGenerator(test_files, features, labels, spectators, batch_size=8192, n_dim=ntracks, \n",
    "                               remove_mass_pt_window=True, \n",
    "                               remove_unlabeled=True,\n",
    "                               return_spectators=True,\n",
    "                               max_entry = 200000) # basically, no maximum"
   ]
  },
  {
   "cell_type": "code",
   "execution_count": 18,
   "metadata": {},
   "outputs": [
    {
     "name": "stderr",
     "output_type": "stream",
     "text": [
      "100%|██████████| 24/24 [02:57<00:00,  7.38s/it]\n"
     ]
    }
   ],
   "source": [
    "import tqdm\n",
    "# run model inference on test data set\n",
    "predict_array_adv = []\n",
    "label_array_test = []\n",
    "spec_array_test = []\n",
    "\n",
    "for t in tqdm.tqdm(test_generator,total=len(test_generator)):\n",
    "    label_array_test.append(t[1][0])\n",
    "    spec_array_test.append(t[1][1])\n",
    "    predict_array_adv.append(keras_model_adv.predict(t[0])[0])\n",
    "predict_array_adv = np.concatenate(predict_array_adv,axis=0)\n",
    "label_array_test = np.concatenate(label_array_test,axis=0)\n",
    "spec_array_test = np.concatenate(spec_array_test,axis=0)"
   ]
  },
  {
   "cell_type": "code",
   "execution_count": 22,
   "metadata": {},
   "outputs": [
    {
     "name": "stdout",
     "output_type": "stream",
     "text": [
      "(61968, 2)\n",
      "(61968, 2)\n",
      "(61968, 2)\n"
     ]
    },
    {
     "data": {
      "image/png": "[encoded data removed]",
      "text/plain": [
       "<Figure size 432x288 with 1 Axes>"
      ]
     },
     "metadata": {
      "needs_background": "light"
     },
     "output_type": "display_data"
    }
   ],
   "source": [
    "# create ROC curves\n",
    "print(label_array_test.shape)\n",
    "print(spec_array_test.shape)\n",
    "print(predict_array_adv.shape)\n",
    "fpr_adv, tpr_adv, threshold_adv = roc_curve(label_array_test[:,1], predict_array_adv[:,1])\n",
    "    \n",
    "# plot ROC curves\n",
    "plt.figure()\n",
    "plt.plot(tpr_adv, fpr_adv, lw=2.5, label=\"Adversarial, AUC = {:.1f}%\".format(auc(fpr_adv,tpr_adv)*100))\n",
    "plt.xlabel(r'True positive rate')\n",
    "plt.ylabel(r'False positive rate')\n",
    "plt.semilogy()\n",
    "plt.ylim(0.001,1)\n",
    "plt.xlim(0,1)\n",
    "plt.grid(True)\n",
    "plt.legend(loc='upper left')\n",
    "plt.show()"
   ]
  },
  {
   "cell_type": "code",
   "execution_count": 23,
   "metadata": {},
   "outputs": [],
   "source": [
    "def find_nearest(array,value):\n",
    "    idx = (np.abs(array-value)).argmin()\n",
    "    return idx, array[idx]"
   ]
  },
  {
   "cell_type": "code",
   "execution_count": 28,
   "metadata": {},
   "outputs": [
    {
     "data": {
      "image/png": "[encoded data removed]",
      "text/plain": [
       "<Figure size 432x288 with 1 Axes>"
      ]
     },
     "metadata": {
      "needs_background": "light"
     },
     "output_type": "display_data"
    },
    {
     "data": {
      "image/png": "[encoded data removed]",
      "text/plain": [
       "<Figure size 432x288 with 1 Axes>"
      ]
     },
     "metadata": {
      "needs_background": "light"
     },
     "output_type": "display_data"
    }
   ],
   "source": [
    "plt.figure()\n",
    "for wp in [1.0, 0.8, 0.5, 0.1]:\n",
    "    idx, val = find_nearest(fpr_adv, wp)\n",
    "    plt.hist(spec_array_test[:,0], bins = np.linspace(40, 200, 21), \n",
    "             weights = label_array_test[:,0]*(predict_array_adv[:,1] > threshold_adv[idx]),\n",
    "             alpha=0.4,density=True, label='QCD, {}% FPR cut'.format(int(wp*100)),linestyle='-')\n",
    "plt.legend()\n",
    "plt.xlabel(r'$m_{SD}$')\n",
    "plt.ylabel(r'Normalized probability')\n",
    "plt.xlim(40,200)\n",
    "\n",
    "plt.figure()\n",
    "for wp in [1.0, 0.8, 0.5, 0.1]:\n",
    "    idx, val = find_nearest(fpr_adv, wp)\n",
    "    plt.hist(spec_array_test[:,0], bins = np.linspace(40, 200, 21), \n",
    "             weights = label_array_test[:,1]*(predict_array_adv[:,1] > threshold_adv[idx]),\n",
    "             alpha=0.4,density=True, label='H(bb), {}% FPR cut'.format(int(wp*100)),linestyle='-')\n",
    "plt.legend()\n",
    "plt.xlabel(r'$m_{SD}$')\n",
    "plt.ylabel(r'Normalized probability')\n",
    "plt.xlim(40,200)\n",
    "plt.show()"
   ]
  },
  {
   "cell_type": "code",
   "execution_count": null,
   "metadata": {},
   "outputs": [],
   "source": []
  }
 ],
 "metadata": {
  "kernelspec": {
   "display_name": "Python 3",
   "language": "python",
   "name": "python3"
  },
  "language_info": {
   "codemirror_mode": {
    "name": "ipython",
    "version": 3
   },
   "file_extension": ".py",
   "mimetype": "text/x-python",
   "name": "python",
   "nbconvert_exporter": "python",
   "pygments_lexer": "ipython3",
   "version": "3.7.6"
  }
 },
 "nbformat": 4,
 "nbformat_minor": 2
}
